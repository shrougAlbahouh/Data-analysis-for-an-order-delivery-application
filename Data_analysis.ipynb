{
 "cells": [
  {
   "cell_type": "code",
   "execution_count": 1,
   "metadata": {},
   "outputs": [],
   "source": [
    "import pandas as pd\n",
    "import numpy as np\n",
    "import seaborn as sns\n",
    "from matplotlib import pyplot as plt\n",
    "from datetime import datetime  \n",
    "from datetime import timedelta  \n",
    "\n",
    "sns.set_style('darkgrid')\n",
    "\n",
    "%matplotlib inline"
   ]
  },
  {
   "cell_type": "code",
   "execution_count": 2,
   "metadata": {},
   "outputs": [],
   "source": [
    "df1 = pd.read_excel('July_Orders.xls')\n",
    "df2= pd.read_excel('August_Orders.xls')\n"
   ]
  },
  {
   "cell_type": "code",
   "execution_count": 3,
   "metadata": {},
   "outputs": [
    {
     "data": {
      "text/plain": [
       "(123, 13)"
      ]
     },
     "execution_count": 3,
     "metadata": {},
     "output_type": "execute_result"
    }
   ],
   "source": [
    "df1.shape"
   ]
  },
  {
   "cell_type": "code",
   "execution_count": 4,
   "metadata": {},
   "outputs": [
    {
     "data": {
      "text/html": [
       "<div>\n",
       "<style scoped>\n",
       "    .dataframe tbody tr th:only-of-type {\n",
       "        vertical-align: middle;\n",
       "    }\n",
       "\n",
       "    .dataframe tbody tr th {\n",
       "        vertical-align: top;\n",
       "    }\n",
       "\n",
       "    .dataframe thead th {\n",
       "        text-align: right;\n",
       "    }\n",
       "</style>\n",
       "<table border=\"1\" class=\"dataframe\">\n",
       "  <thead>\n",
       "    <tr style=\"text-align: right;\">\n",
       "      <th></th>\n",
       "      <th>Unnamed: 0</th>\n",
       "      <th>Order #</th>\n",
       "      <th>Created On</th>\n",
       "      <th>Merchant</th>\n",
       "      <th>Payment</th>\n",
       "      <th>Sub total</th>\n",
       "      <th>Delivery charge</th>\n",
       "      <th>Vat</th>\n",
       "      <th>Total</th>\n",
       "      <th>Discount</th>\n",
       "      <th>Wallet</th>\n",
       "      <th>Cash Collection</th>\n",
       "      <th>Driver Name</th>\n",
       "    </tr>\n",
       "  </thead>\n",
       "  <tbody>\n",
       "    <tr>\n",
       "      <th>0</th>\n",
       "      <td>0</td>\n",
       "      <td>9012000017</td>\n",
       "      <td>24 Jul, 2019 09:32 PM</td>\n",
       "      <td>Merchant1</td>\n",
       "      <td>CASH</td>\n",
       "      <td>118.00</td>\n",
       "      <td>5</td>\n",
       "      <td>NaN</td>\n",
       "      <td>123.00</td>\n",
       "      <td>NaN</td>\n",
       "      <td>0</td>\n",
       "      <td>123.0</td>\n",
       "      <td>Driver1</td>\n",
       "    </tr>\n",
       "    <tr>\n",
       "      <th>1</th>\n",
       "      <td>1</td>\n",
       "      <td>9097000012</td>\n",
       "      <td>04 Jul, 2019 06:41 PM</td>\n",
       "      <td>Merchant2</td>\n",
       "      <td>CASH</td>\n",
       "      <td>140.00</td>\n",
       "      <td>15</td>\n",
       "      <td>NaN</td>\n",
       "      <td>155.00</td>\n",
       "      <td>10.0% OFF TOTAL</td>\n",
       "      <td>0</td>\n",
       "      <td>139.5</td>\n",
       "      <td>Driver2</td>\n",
       "    </tr>\n",
       "    <tr>\n",
       "      <th>2</th>\n",
       "      <td>2</td>\n",
       "      <td>9313000019</td>\n",
       "      <td>04 Jul, 2019 06:02 PM</td>\n",
       "      <td>Merchant3</td>\n",
       "      <td>CASH</td>\n",
       "      <td>184.80</td>\n",
       "      <td>15</td>\n",
       "      <td>NaN</td>\n",
       "      <td>199.80</td>\n",
       "      <td>NaN</td>\n",
       "      <td>0</td>\n",
       "      <td>199.8</td>\n",
       "      <td>Driver3</td>\n",
       "    </tr>\n",
       "    <tr>\n",
       "      <th>3</th>\n",
       "      <td>3</td>\n",
       "      <td>9313000020</td>\n",
       "      <td>30 Jul, 2019 11:46 AM</td>\n",
       "      <td>Merchant3</td>\n",
       "      <td>CASH</td>\n",
       "      <td>156.45</td>\n",
       "      <td>15</td>\n",
       "      <td>NaN</td>\n",
       "      <td>171.45</td>\n",
       "      <td>10.0% OFF TOTAL</td>\n",
       "      <td>0</td>\n",
       "      <td>154.3</td>\n",
       "      <td>Driver1</td>\n",
       "    </tr>\n",
       "    <tr>\n",
       "      <th>4</th>\n",
       "      <td>4</td>\n",
       "      <td>9314000012</td>\n",
       "      <td>01 Jul, 2019 04:56 PM</td>\n",
       "      <td>Merchant4</td>\n",
       "      <td>CASH</td>\n",
       "      <td>160.00</td>\n",
       "      <td>15</td>\n",
       "      <td>NaN</td>\n",
       "      <td>175.00</td>\n",
       "      <td>10.0% OFF TOTAL</td>\n",
       "      <td>0</td>\n",
       "      <td>157.5</td>\n",
       "      <td>Driver1</td>\n",
       "    </tr>\n",
       "  </tbody>\n",
       "</table>\n",
       "</div>"
      ],
      "text/plain": [
       "   Unnamed: 0     Order #             Created On   Merchant Payment  \\\n",
       "0           0  9012000017  24 Jul, 2019 09:32 PM  Merchant1    CASH   \n",
       "1           1  9097000012  04 Jul, 2019 06:41 PM  Merchant2    CASH   \n",
       "2           2  9313000019  04 Jul, 2019 06:02 PM  Merchant3    CASH   \n",
       "3           3  9313000020  30 Jul, 2019 11:46 AM  Merchant3    CASH   \n",
       "4           4  9314000012  01 Jul, 2019 04:56 PM  Merchant4    CASH   \n",
       "\n",
       "   Sub total  Delivery charge  Vat   Total         Discount  Wallet  \\\n",
       "0     118.00                5  NaN  123.00              NaN       0   \n",
       "1     140.00               15  NaN  155.00  10.0% OFF TOTAL       0   \n",
       "2     184.80               15  NaN  199.80              NaN       0   \n",
       "3     156.45               15  NaN  171.45  10.0% OFF TOTAL       0   \n",
       "4     160.00               15  NaN  175.00  10.0% OFF TOTAL       0   \n",
       "\n",
       "   Cash Collection Driver Name  \n",
       "0            123.0     Driver1  \n",
       "1            139.5     Driver2  \n",
       "2            199.8     Driver3  \n",
       "3            154.3     Driver1  \n",
       "4            157.5     Driver1  "
      ]
     },
     "execution_count": 4,
     "metadata": {},
     "output_type": "execute_result"
    }
   ],
   "source": [
    "df1.head()"
   ]
  },
  {
   "cell_type": "code",
   "execution_count": 5,
   "metadata": {},
   "outputs": [
    {
     "data": {
      "text/plain": [
       "(80, 13)"
      ]
     },
     "execution_count": 5,
     "metadata": {},
     "output_type": "execute_result"
    }
   ],
   "source": [
    "df2.shape"
   ]
  },
  {
   "cell_type": "code",
   "execution_count": 6,
   "metadata": {},
   "outputs": [
    {
     "data": {
      "text/html": [
       "<div>\n",
       "<style scoped>\n",
       "    .dataframe tbody tr th:only-of-type {\n",
       "        vertical-align: middle;\n",
       "    }\n",
       "\n",
       "    .dataframe tbody tr th {\n",
       "        vertical-align: top;\n",
       "    }\n",
       "\n",
       "    .dataframe thead th {\n",
       "        text-align: right;\n",
       "    }\n",
       "</style>\n",
       "<table border=\"1\" class=\"dataframe\">\n",
       "  <thead>\n",
       "    <tr style=\"text-align: right;\">\n",
       "      <th></th>\n",
       "      <th>Unnamed: 0</th>\n",
       "      <th>Order #</th>\n",
       "      <th>Created On</th>\n",
       "      <th>Merchant</th>\n",
       "      <th>Payment</th>\n",
       "      <th>Sub total</th>\n",
       "      <th>Delivery charge</th>\n",
       "      <th>Vat</th>\n",
       "      <th>Total</th>\n",
       "      <th>Discount</th>\n",
       "      <th>Wallet</th>\n",
       "      <th>Cash Collection</th>\n",
       "      <th>Driver Name</th>\n",
       "    </tr>\n",
       "  </thead>\n",
       "  <tbody>\n",
       "    <tr>\n",
       "      <th>0</th>\n",
       "      <td>0</td>\n",
       "      <td>8532000011</td>\n",
       "      <td>10 Aug, 2019 04:47 PM</td>\n",
       "      <td>Merchant1</td>\n",
       "      <td>CASH</td>\n",
       "      <td>45.00</td>\n",
       "      <td>0</td>\n",
       "      <td>0</td>\n",
       "      <td>45.00</td>\n",
       "      <td>NaN</td>\n",
       "      <td>0</td>\n",
       "      <td>45.00</td>\n",
       "      <td>Driver1</td>\n",
       "    </tr>\n",
       "    <tr>\n",
       "      <th>1</th>\n",
       "      <td>1</td>\n",
       "      <td>8949000018</td>\n",
       "      <td>12 Aug, 2019 04:39 PM</td>\n",
       "      <td>Merchant1</td>\n",
       "      <td>CASH</td>\n",
       "      <td>150.21</td>\n",
       "      <td>0</td>\n",
       "      <td>0</td>\n",
       "      <td>150.21</td>\n",
       "      <td>NaN</td>\n",
       "      <td>0</td>\n",
       "      <td>150.21</td>\n",
       "      <td>Driver2</td>\n",
       "    </tr>\n",
       "    <tr>\n",
       "      <th>2</th>\n",
       "      <td>2</td>\n",
       "      <td>9175000013</td>\n",
       "      <td>10 Aug, 2019 04:04 PM</td>\n",
       "      <td>Merchant1</td>\n",
       "      <td>CASH</td>\n",
       "      <td>50.00</td>\n",
       "      <td>0</td>\n",
       "      <td>0</td>\n",
       "      <td>50.00</td>\n",
       "      <td>NaN</td>\n",
       "      <td>0</td>\n",
       "      <td>50.00</td>\n",
       "      <td>Driver3</td>\n",
       "    </tr>\n",
       "    <tr>\n",
       "      <th>3</th>\n",
       "      <td>3</td>\n",
       "      <td>9313000021</td>\n",
       "      <td>07 Aug, 2019 07:20 PM</td>\n",
       "      <td>Merchant2</td>\n",
       "      <td>CASH</td>\n",
       "      <td>196.35</td>\n",
       "      <td>0</td>\n",
       "      <td>0</td>\n",
       "      <td>196.35</td>\n",
       "      <td>NaN</td>\n",
       "      <td>0</td>\n",
       "      <td>196.35</td>\n",
       "      <td>Driver1</td>\n",
       "    </tr>\n",
       "    <tr>\n",
       "      <th>4</th>\n",
       "      <td>4</td>\n",
       "      <td>9313000023</td>\n",
       "      <td>28 Aug, 2019 03:10 PM</td>\n",
       "      <td>Merchant2</td>\n",
       "      <td>CASH</td>\n",
       "      <td>111.40</td>\n",
       "      <td>15</td>\n",
       "      <td>0</td>\n",
       "      <td>126.40</td>\n",
       "      <td>NaN</td>\n",
       "      <td>0</td>\n",
       "      <td>126.40</td>\n",
       "      <td>Driver4</td>\n",
       "    </tr>\n",
       "  </tbody>\n",
       "</table>\n",
       "</div>"
      ],
      "text/plain": [
       "   Unnamed: 0     Order #             Created On   Merchant Payment  \\\n",
       "0           0  8532000011  10 Aug, 2019 04:47 PM  Merchant1    CASH   \n",
       "1           1  8949000018  12 Aug, 2019 04:39 PM  Merchant1    CASH   \n",
       "2           2  9175000013  10 Aug, 2019 04:04 PM  Merchant1    CASH   \n",
       "3           3  9313000021  07 Aug, 2019 07:20 PM  Merchant2    CASH   \n",
       "4           4  9313000023  28 Aug, 2019 03:10 PM  Merchant2    CASH   \n",
       "\n",
       "   Sub total  Delivery charge  Vat   Total Discount  Wallet  Cash Collection  \\\n",
       "0      45.00                0    0   45.00      NaN       0            45.00   \n",
       "1     150.21                0    0  150.21      NaN       0           150.21   \n",
       "2      50.00                0    0   50.00      NaN       0            50.00   \n",
       "3     196.35                0    0  196.35      NaN       0           196.35   \n",
       "4     111.40               15    0  126.40      NaN       0           126.40   \n",
       "\n",
       "  Driver Name  \n",
       "0     Driver1  \n",
       "1     Driver2  \n",
       "2     Driver3  \n",
       "3     Driver1  \n",
       "4     Driver4  "
      ]
     },
     "execution_count": 6,
     "metadata": {},
     "output_type": "execute_result"
    }
   ],
   "source": [
    "df2.head()"
   ]
  },
  {
   "cell_type": "code",
   "execution_count": 7,
   "metadata": {},
   "outputs": [],
   "source": [
    "odf=pd.concat([df1, df2], ignore_index=True)\n",
    "\n"
   ]
  },
  {
   "cell_type": "code",
   "execution_count": 8,
   "metadata": {},
   "outputs": [
    {
     "data": {
      "text/plain": [
       "(203, 13)"
      ]
     },
     "execution_count": 8,
     "metadata": {},
     "output_type": "execute_result"
    }
   ],
   "source": [
    "odf.shape"
   ]
  },
  {
   "cell_type": "code",
   "execution_count": 9,
   "metadata": {},
   "outputs": [
    {
     "data": {
      "text/html": [
       "<div>\n",
       "<style scoped>\n",
       "    .dataframe tbody tr th:only-of-type {\n",
       "        vertical-align: middle;\n",
       "    }\n",
       "\n",
       "    .dataframe tbody tr th {\n",
       "        vertical-align: top;\n",
       "    }\n",
       "\n",
       "    .dataframe thead th {\n",
       "        text-align: right;\n",
       "    }\n",
       "</style>\n",
       "<table border=\"1\" class=\"dataframe\">\n",
       "  <thead>\n",
       "    <tr style=\"text-align: right;\">\n",
       "      <th></th>\n",
       "      <th>Unnamed: 0</th>\n",
       "      <th>Order #</th>\n",
       "      <th>Created On</th>\n",
       "      <th>Merchant</th>\n",
       "      <th>Payment</th>\n",
       "      <th>Sub total</th>\n",
       "      <th>Delivery charge</th>\n",
       "      <th>Vat</th>\n",
       "      <th>Total</th>\n",
       "      <th>Discount</th>\n",
       "      <th>Wallet</th>\n",
       "      <th>Cash Collection</th>\n",
       "      <th>Driver Name</th>\n",
       "    </tr>\n",
       "  </thead>\n",
       "  <tbody>\n",
       "    <tr>\n",
       "      <th>197</th>\n",
       "      <td>74</td>\n",
       "      <td>12497000019</td>\n",
       "      <td>08 Aug, 2019 03:38 PM</td>\n",
       "      <td>Merchant6</td>\n",
       "      <td>CASH</td>\n",
       "      <td>16.25</td>\n",
       "      <td>0</td>\n",
       "      <td>0.0</td>\n",
       "      <td>16.25</td>\n",
       "      <td>NaN</td>\n",
       "      <td>0</td>\n",
       "      <td>16.25</td>\n",
       "      <td>Driver23</td>\n",
       "    </tr>\n",
       "    <tr>\n",
       "      <th>52</th>\n",
       "      <td>52</td>\n",
       "      <td>9920000074</td>\n",
       "      <td>04 Jul, 2019 05:26 PM</td>\n",
       "      <td>Merchant4</td>\n",
       "      <td>CASH</td>\n",
       "      <td>105.00</td>\n",
       "      <td>15</td>\n",
       "      <td>NaN</td>\n",
       "      <td>120.00</td>\n",
       "      <td>10.0% OFF TOTAL</td>\n",
       "      <td>0</td>\n",
       "      <td>108.00</td>\n",
       "      <td>Driver4</td>\n",
       "    </tr>\n",
       "    <tr>\n",
       "      <th>198</th>\n",
       "      <td>75</td>\n",
       "      <td>12497000021</td>\n",
       "      <td>09 Aug, 2019 09:10 PM</td>\n",
       "      <td>Merchant6</td>\n",
       "      <td>CASH</td>\n",
       "      <td>41.50</td>\n",
       "      <td>0</td>\n",
       "      <td>0.0</td>\n",
       "      <td>41.50</td>\n",
       "      <td>NaN</td>\n",
       "      <td>0</td>\n",
       "      <td>41.50</td>\n",
       "      <td>Driver18</td>\n",
       "    </tr>\n",
       "    <tr>\n",
       "      <th>84</th>\n",
       "      <td>84</td>\n",
       "      <td>9920000111</td>\n",
       "      <td>18 Jul, 2019 05:40 PM</td>\n",
       "      <td>Merchant6</td>\n",
       "      <td>CASH</td>\n",
       "      <td>75.00</td>\n",
       "      <td>5</td>\n",
       "      <td>NaN</td>\n",
       "      <td>80.00</td>\n",
       "      <td>NaN</td>\n",
       "      <td>0</td>\n",
       "      <td>80.00</td>\n",
       "      <td>Driver3</td>\n",
       "    </tr>\n",
       "    <tr>\n",
       "      <th>104</th>\n",
       "      <td>104</td>\n",
       "      <td>9920000135</td>\n",
       "      <td>26 Jul, 2019 07:56 PM</td>\n",
       "      <td>Merchant3</td>\n",
       "      <td>CASH</td>\n",
       "      <td>75.00</td>\n",
       "      <td>5</td>\n",
       "      <td>NaN</td>\n",
       "      <td>80.00</td>\n",
       "      <td>10.0% OFF TOTAL</td>\n",
       "      <td>0</td>\n",
       "      <td>72.00</td>\n",
       "      <td>Driver18</td>\n",
       "    </tr>\n",
       "    <tr>\n",
       "      <th>109</th>\n",
       "      <td>109</td>\n",
       "      <td>9920000140</td>\n",
       "      <td>28 Jul, 2019 07:50 PM</td>\n",
       "      <td>Merchant2</td>\n",
       "      <td>CASH</td>\n",
       "      <td>50.00</td>\n",
       "      <td>15</td>\n",
       "      <td>NaN</td>\n",
       "      <td>65.00</td>\n",
       "      <td>10.0% OFF TOTAL</td>\n",
       "      <td>0</td>\n",
       "      <td>58.50</td>\n",
       "      <td>Driver19</td>\n",
       "    </tr>\n",
       "    <tr>\n",
       "      <th>175</th>\n",
       "      <td>52</td>\n",
       "      <td>9920000209</td>\n",
       "      <td>10 Aug, 2019 09:15 PM</td>\n",
       "      <td>Merchant6</td>\n",
       "      <td>CASH</td>\n",
       "      <td>60.00</td>\n",
       "      <td>0</td>\n",
       "      <td>0.0</td>\n",
       "      <td>60.00</td>\n",
       "      <td>NaN</td>\n",
       "      <td>0</td>\n",
       "      <td>60.00</td>\n",
       "      <td>Driver12</td>\n",
       "    </tr>\n",
       "    <tr>\n",
       "      <th>73</th>\n",
       "      <td>73</td>\n",
       "      <td>9920000095</td>\n",
       "      <td>05 Jul, 2019 08:41 PM</td>\n",
       "      <td>Merchant6</td>\n",
       "      <td>CASH</td>\n",
       "      <td>75.00</td>\n",
       "      <td>15</td>\n",
       "      <td>NaN</td>\n",
       "      <td>90.00</td>\n",
       "      <td>10.0% OFF TOTAL</td>\n",
       "      <td>0</td>\n",
       "      <td>81.00</td>\n",
       "      <td>Driver8</td>\n",
       "    </tr>\n",
       "    <tr>\n",
       "      <th>101</th>\n",
       "      <td>101</td>\n",
       "      <td>9920000132</td>\n",
       "      <td>25 Jul, 2019 05:38 PM</td>\n",
       "      <td>Merchant3</td>\n",
       "      <td>CASH</td>\n",
       "      <td>23.00</td>\n",
       "      <td>5</td>\n",
       "      <td>NaN</td>\n",
       "      <td>28.00</td>\n",
       "      <td>NaN</td>\n",
       "      <td>0</td>\n",
       "      <td>28.00</td>\n",
       "      <td>Driver16</td>\n",
       "    </tr>\n",
       "    <tr>\n",
       "      <th>19</th>\n",
       "      <td>19</td>\n",
       "      <td>9314000031</td>\n",
       "      <td>08 Jul, 2019 03:57 PM</td>\n",
       "      <td>Merchant4</td>\n",
       "      <td>CASH</td>\n",
       "      <td>110.00</td>\n",
       "      <td>15</td>\n",
       "      <td>NaN</td>\n",
       "      <td>125.00</td>\n",
       "      <td>NaN</td>\n",
       "      <td>0</td>\n",
       "      <td>125.00</td>\n",
       "      <td>Driver3</td>\n",
       "    </tr>\n",
       "  </tbody>\n",
       "</table>\n",
       "</div>"
      ],
      "text/plain": [
       "     Unnamed: 0      Order #             Created On   Merchant Payment  \\\n",
       "197          74  12497000019  08 Aug, 2019 03:38 PM  Merchant6    CASH   \n",
       "52           52   9920000074  04 Jul, 2019 05:26 PM  Merchant4    CASH   \n",
       "198          75  12497000021  09 Aug, 2019 09:10 PM  Merchant6    CASH   \n",
       "84           84   9920000111  18 Jul, 2019 05:40 PM  Merchant6    CASH   \n",
       "104         104   9920000135  26 Jul, 2019 07:56 PM  Merchant3    CASH   \n",
       "109         109   9920000140  28 Jul, 2019 07:50 PM  Merchant2    CASH   \n",
       "175          52   9920000209  10 Aug, 2019 09:15 PM  Merchant6    CASH   \n",
       "73           73   9920000095  05 Jul, 2019 08:41 PM  Merchant6    CASH   \n",
       "101         101   9920000132  25 Jul, 2019 05:38 PM  Merchant3    CASH   \n",
       "19           19   9314000031  08 Jul, 2019 03:57 PM  Merchant4    CASH   \n",
       "\n",
       "     Sub total  Delivery charge  Vat   Total         Discount  Wallet  \\\n",
       "197      16.25                0  0.0   16.25              NaN       0   \n",
       "52      105.00               15  NaN  120.00  10.0% OFF TOTAL       0   \n",
       "198      41.50                0  0.0   41.50              NaN       0   \n",
       "84       75.00                5  NaN   80.00              NaN       0   \n",
       "104      75.00                5  NaN   80.00  10.0% OFF TOTAL       0   \n",
       "109      50.00               15  NaN   65.00  10.0% OFF TOTAL       0   \n",
       "175      60.00                0  0.0   60.00              NaN       0   \n",
       "73       75.00               15  NaN   90.00  10.0% OFF TOTAL       0   \n",
       "101      23.00                5  NaN   28.00              NaN       0   \n",
       "19      110.00               15  NaN  125.00              NaN       0   \n",
       "\n",
       "     Cash Collection Driver Name  \n",
       "197            16.25    Driver23  \n",
       "52            108.00     Driver4  \n",
       "198            41.50    Driver18  \n",
       "84             80.00     Driver3  \n",
       "104            72.00    Driver18  \n",
       "109            58.50    Driver19  \n",
       "175            60.00    Driver12  \n",
       "73             81.00     Driver8  \n",
       "101            28.00    Driver16  \n",
       "19            125.00     Driver3  "
      ]
     },
     "execution_count": 9,
     "metadata": {},
     "output_type": "execute_result"
    }
   ],
   "source": [
    "odf.sample(10)"
   ]
  },
  {
   "cell_type": "code",
   "execution_count": 10,
   "metadata": {},
   "outputs": [
    {
     "data": {
      "text/plain": [
       "Unnamed: 0           int64\n",
       "Order #              int64\n",
       "Created On          object\n",
       "Merchant            object\n",
       "Payment             object\n",
       "Sub total          float64\n",
       "Delivery charge      int64\n",
       "Vat                float64\n",
       "Total              float64\n",
       "Discount            object\n",
       "Wallet               int64\n",
       "Cash Collection    float64\n",
       "Driver Name         object\n",
       "dtype: object"
      ]
     },
     "execution_count": 10,
     "metadata": {},
     "output_type": "execute_result"
    }
   ],
   "source": [
    "odf.dtypes"
   ]
  },
  {
   "cell_type": "code",
   "execution_count": 11,
   "metadata": {},
   "outputs": [],
   "source": [
    "dff1 = pd.read_excel('July_Delievries.xlsx')\n",
    "dff2= pd.read_excel('August_Delievries.xls')"
   ]
  },
  {
   "cell_type": "code",
   "execution_count": 12,
   "metadata": {},
   "outputs": [
    {
     "data": {
      "text/plain": [
       "(246, 13)"
      ]
     },
     "execution_count": 12,
     "metadata": {},
     "output_type": "execute_result"
    }
   ],
   "source": [
    "dff1.shape"
   ]
  },
  {
   "cell_type": "code",
   "execution_count": 13,
   "metadata": {},
   "outputs": [
    {
     "data": {
      "text/plain": [
       "(145, 13)"
      ]
     },
     "execution_count": 13,
     "metadata": {},
     "output_type": "execute_result"
    }
   ],
   "source": [
    "dff2.shape"
   ]
  },
  {
   "cell_type": "code",
   "execution_count": 14,
   "metadata": {},
   "outputs": [],
   "source": [
    "ddf=pd.concat([dff1, dff2], ignore_index=True)\n"
   ]
  },
  {
   "cell_type": "code",
   "execution_count": 15,
   "metadata": {},
   "outputs": [
    {
     "data": {
      "text/plain": [
       "(391, 13)"
      ]
     },
     "execution_count": 15,
     "metadata": {},
     "output_type": "execute_result"
    }
   ],
   "source": [
    "ddf.shape"
   ]
  },
  {
   "cell_type": "code",
   "execution_count": 16,
   "metadata": {},
   "outputs": [
    {
     "data": {
      "text/html": [
       "<div>\n",
       "<style scoped>\n",
       "    .dataframe tbody tr th:only-of-type {\n",
       "        vertical-align: middle;\n",
       "    }\n",
       "\n",
       "    .dataframe tbody tr th {\n",
       "        vertical-align: top;\n",
       "    }\n",
       "\n",
       "    .dataframe thead th {\n",
       "        text-align: right;\n",
       "    }\n",
       "</style>\n",
       "<table border=\"1\" class=\"dataframe\">\n",
       "  <thead>\n",
       "    <tr style=\"text-align: right;\">\n",
       "      <th></th>\n",
       "      <th>Unnamed: 0</th>\n",
       "      <th>Order #</th>\n",
       "      <th>Waybill #</th>\n",
       "      <th>Order date</th>\n",
       "      <th>Scheduled for</th>\n",
       "      <th>Type</th>\n",
       "      <th>Delivery Fee</th>\n",
       "      <th>Cash collection</th>\n",
       "      <th>Worker</th>\n",
       "      <th>Dispatched</th>\n",
       "      <th>Completed</th>\n",
       "      <th>Assigned On</th>\n",
       "      <th>Status</th>\n",
       "    </tr>\n",
       "  </thead>\n",
       "  <tbody>\n",
       "    <tr>\n",
       "      <th>0</th>\n",
       "      <td>0</td>\n",
       "      <td>9920000049</td>\n",
       "      <td>NaN</td>\n",
       "      <td>01 Jul, 2019 12:17 PM</td>\n",
       "      <td>01 Jul, 2019 05:00 PM</td>\n",
       "      <td>PICKUP</td>\n",
       "      <td>NaN</td>\n",
       "      <td>NaN</td>\n",
       "      <td>Driver1</td>\n",
       "      <td>01 Jul, 2019 12:21 PM</td>\n",
       "      <td>01 Jul, 2019 12:22 PM</td>\n",
       "      <td>01 Jul, 2019 12:19 PM</td>\n",
       "      <td>Completed</td>\n",
       "    </tr>\n",
       "    <tr>\n",
       "      <th>1</th>\n",
       "      <td>1</td>\n",
       "      <td>9920000049</td>\n",
       "      <td>NaN</td>\n",
       "      <td>01 Jul, 2019 12:17 PM</td>\n",
       "      <td>01 Jul, 2019 05:00 PM</td>\n",
       "      <td>DELIVERY</td>\n",
       "      <td>NaN</td>\n",
       "      <td>101.7</td>\n",
       "      <td>Driver1</td>\n",
       "      <td>01 Jul, 2019 12:22 PM</td>\n",
       "      <td>01 Jul, 2019 12:22 PM</td>\n",
       "      <td>01 Jul, 2019 12:19 PM</td>\n",
       "      <td>Completed</td>\n",
       "    </tr>\n",
       "    <tr>\n",
       "      <th>2</th>\n",
       "      <td>2</td>\n",
       "      <td>9920000050</td>\n",
       "      <td>NaN</td>\n",
       "      <td>01 Jul, 2019 12:30 PM</td>\n",
       "      <td>01 Jul, 2019 05:00 PM</td>\n",
       "      <td>PICKUP</td>\n",
       "      <td>NaN</td>\n",
       "      <td>NaN</td>\n",
       "      <td>Driver1</td>\n",
       "      <td>01 Jul, 2019 12:33 PM</td>\n",
       "      <td>01 Jul, 2019 12:34 PM</td>\n",
       "      <td>01 Jul, 2019 12:33 PM</td>\n",
       "      <td>Completed</td>\n",
       "    </tr>\n",
       "    <tr>\n",
       "      <th>3</th>\n",
       "      <td>3</td>\n",
       "      <td>9920000050</td>\n",
       "      <td>NaN</td>\n",
       "      <td>01 Jul, 2019 12:30 PM</td>\n",
       "      <td>01 Jul, 2019 05:00 PM</td>\n",
       "      <td>DELIVERY</td>\n",
       "      <td>NaN</td>\n",
       "      <td>486.0</td>\n",
       "      <td>Driver1</td>\n",
       "      <td>01 Jul, 2019 12:34 PM</td>\n",
       "      <td>01 Jul, 2019 12:35 PM</td>\n",
       "      <td>01 Jul, 2019 12:33 PM</td>\n",
       "      <td>Completed</td>\n",
       "    </tr>\n",
       "    <tr>\n",
       "      <th>4</th>\n",
       "      <td>4</td>\n",
       "      <td>9920000051</td>\n",
       "      <td>NaN</td>\n",
       "      <td>01 Jul, 2019 04:17 PM</td>\n",
       "      <td>01 Jul, 2019 05:16 PM</td>\n",
       "      <td>PICKUP</td>\n",
       "      <td>NaN</td>\n",
       "      <td>NaN</td>\n",
       "      <td>Driver2</td>\n",
       "      <td>01 Jul, 2019 04:23 PM</td>\n",
       "      <td>01 Jul, 2019 04:44 PM</td>\n",
       "      <td>01 Jul, 2019 04:19 PM</td>\n",
       "      <td>Completed</td>\n",
       "    </tr>\n",
       "  </tbody>\n",
       "</table>\n",
       "</div>"
      ],
      "text/plain": [
       "   Unnamed: 0     Order #  Waybill #             Order date  \\\n",
       "0           0  9920000049        NaN  01 Jul, 2019 12:17 PM   \n",
       "1           1  9920000049        NaN  01 Jul, 2019 12:17 PM   \n",
       "2           2  9920000050        NaN  01 Jul, 2019 12:30 PM   \n",
       "3           3  9920000050        NaN  01 Jul, 2019 12:30 PM   \n",
       "4           4  9920000051        NaN  01 Jul, 2019 04:17 PM   \n",
       "\n",
       "           Scheduled for      Type  Delivery Fee  Cash collection   Worker  \\\n",
       "0  01 Jul, 2019 05:00 PM    PICKUP           NaN              NaN  Driver1   \n",
       "1  01 Jul, 2019 05:00 PM  DELIVERY           NaN            101.7  Driver1   \n",
       "2  01 Jul, 2019 05:00 PM    PICKUP           NaN              NaN  Driver1   \n",
       "3  01 Jul, 2019 05:00 PM  DELIVERY           NaN            486.0  Driver1   \n",
       "4  01 Jul, 2019 05:16 PM    PICKUP           NaN              NaN  Driver2   \n",
       "\n",
       "              Dispatched              Completed            Assigned On  \\\n",
       "0  01 Jul, 2019 12:21 PM  01 Jul, 2019 12:22 PM  01 Jul, 2019 12:19 PM   \n",
       "1  01 Jul, 2019 12:22 PM  01 Jul, 2019 12:22 PM  01 Jul, 2019 12:19 PM   \n",
       "2  01 Jul, 2019 12:33 PM  01 Jul, 2019 12:34 PM  01 Jul, 2019 12:33 PM   \n",
       "3  01 Jul, 2019 12:34 PM  01 Jul, 2019 12:35 PM  01 Jul, 2019 12:33 PM   \n",
       "4  01 Jul, 2019 04:23 PM  01 Jul, 2019 04:44 PM  01 Jul, 2019 04:19 PM   \n",
       "\n",
       "      Status  \n",
       "0  Completed  \n",
       "1  Completed  \n",
       "2  Completed  \n",
       "3  Completed  \n",
       "4  Completed  "
      ]
     },
     "execution_count": 16,
     "metadata": {},
     "output_type": "execute_result"
    }
   ],
   "source": [
    "ddf.head()"
   ]
  },
  {
   "cell_type": "code",
   "execution_count": 17,
   "metadata": {},
   "outputs": [
    {
     "data": {
      "text/plain": [
       "Index(['Unnamed: 0', 'Order #', 'Waybill #', 'Order date', 'Scheduled for',\n",
       "       'Type', 'Delivery Fee', 'Cash collection', 'Worker', 'Dispatched',\n",
       "       'Completed', 'Assigned On', 'Status'],\n",
       "      dtype='object')"
      ]
     },
     "execution_count": 17,
     "metadata": {},
     "output_type": "execute_result"
    }
   ],
   "source": [
    "ddf.columns\n"
   ]
  },
  {
   "cell_type": "code",
   "execution_count": 18,
   "metadata": {},
   "outputs": [],
   "source": [
    "PICKUP= pd.DataFrame({'Unnamed: 0':[1], \n",
    "                     'Order #':[1],  \n",
    "                    'Waybill #':[1],\n",
    "                   'Order date':[1], \n",
    "                     'Scheduled for':[1],  \n",
    "                     'Type':[1],\n",
    "                    'Delivery Fee':[1], \n",
    "                     'Cash collection':[1],  \n",
    "                    'Worker':[1],\n",
    "                     'Dispatched':[1], \n",
    "                     'Completed':[1],  \n",
    "                    'Assigned On':[1],\n",
    "                    'Status':[1] })\n",
    "\n",
    "DELIVERY= pd.DataFrame({'Unnamed: 0':[1], \n",
    "                     'Order #':[1],  \n",
    "                    'Waybill #':[1],\n",
    "                   'Order date':[1], \n",
    "                     'Scheduled for':[1],  \n",
    "                     'Type':[1],\n",
    "                    'Delivery Fee':[1], \n",
    "                     'Cash collection':[1],  \n",
    "                    'Worker':[1],\n",
    "                     'Dispatched':[1], \n",
    "                     'Completed':[1],  \n",
    "                    'Assigned On':[1],\n",
    "                    'Status':[1] })"
   ]
  },
  {
   "cell_type": "code",
   "execution_count": 19,
   "metadata": {},
   "outputs": [],
   "source": [
    "for index, row in ddf.iterrows():\n",
    "    if row['Type']=='PICKUP':\n",
    "        PICKUP = PICKUP.append(row, ignore_index=True)\n",
    "    if row['Type']=='DELIVERY':\n",
    "        DELIVERY = DELIVERY.append(row, ignore_index=True)"
   ]
  },
  {
   "cell_type": "code",
   "execution_count": 20,
   "metadata": {},
   "outputs": [
    {
     "data": {
      "text/plain": [
       "(189, 13)"
      ]
     },
     "execution_count": 20,
     "metadata": {},
     "output_type": "execute_result"
    }
   ],
   "source": [
    "PICKUP.shape"
   ]
  },
  {
   "cell_type": "code",
   "execution_count": 21,
   "metadata": {},
   "outputs": [
    {
     "data": {
      "text/plain": [
       "(204, 13)"
      ]
     },
     "execution_count": 21,
     "metadata": {},
     "output_type": "execute_result"
    }
   ],
   "source": [
    "DELIVERY.shape"
   ]
  },
  {
   "cell_type": "code",
   "execution_count": 22,
   "metadata": {},
   "outputs": [
    {
     "data": {
      "text/html": [
       "<div>\n",
       "<style scoped>\n",
       "    .dataframe tbody tr th:only-of-type {\n",
       "        vertical-align: middle;\n",
       "    }\n",
       "\n",
       "    .dataframe tbody tr th {\n",
       "        vertical-align: top;\n",
       "    }\n",
       "\n",
       "    .dataframe thead th {\n",
       "        text-align: right;\n",
       "    }\n",
       "</style>\n",
       "<table border=\"1\" class=\"dataframe\">\n",
       "  <thead>\n",
       "    <tr style=\"text-align: right;\">\n",
       "      <th></th>\n",
       "      <th>Unnamed: 0</th>\n",
       "      <th>Order #</th>\n",
       "      <th>Waybill #</th>\n",
       "      <th>Order date</th>\n",
       "      <th>Scheduled for</th>\n",
       "      <th>Type</th>\n",
       "      <th>Delivery Fee</th>\n",
       "      <th>Cash collection</th>\n",
       "      <th>Worker</th>\n",
       "      <th>Dispatched</th>\n",
       "      <th>Completed</th>\n",
       "      <th>Assigned On</th>\n",
       "      <th>Status</th>\n",
       "    </tr>\n",
       "  </thead>\n",
       "  <tbody>\n",
       "  </tbody>\n",
       "</table>\n",
       "</div>"
      ],
      "text/plain": [
       "Empty DataFrame\n",
       "Columns: [Unnamed: 0, Order #, Waybill #, Order date, Scheduled for, Type, Delivery Fee, Cash collection, Worker, Dispatched, Completed, Assigned On, Status]\n",
       "Index: []"
      ]
     },
     "execution_count": 22,
     "metadata": {},
     "output_type": "execute_result"
    }
   ],
   "source": [
    "DELIVERY[DELIVERY['Type']=='PICKUP']"
   ]
  },
  {
   "cell_type": "code",
   "execution_count": 23,
   "metadata": {},
   "outputs": [
    {
     "data": {
      "text/html": [
       "<div>\n",
       "<style scoped>\n",
       "    .dataframe tbody tr th:only-of-type {\n",
       "        vertical-align: middle;\n",
       "    }\n",
       "\n",
       "    .dataframe tbody tr th {\n",
       "        vertical-align: top;\n",
       "    }\n",
       "\n",
       "    .dataframe thead th {\n",
       "        text-align: right;\n",
       "    }\n",
       "</style>\n",
       "<table border=\"1\" class=\"dataframe\">\n",
       "  <thead>\n",
       "    <tr style=\"text-align: right;\">\n",
       "      <th></th>\n",
       "      <th>Unnamed: 0</th>\n",
       "      <th>Order #</th>\n",
       "      <th>Waybill #</th>\n",
       "      <th>Order date</th>\n",
       "      <th>Scheduled for</th>\n",
       "      <th>Type</th>\n",
       "      <th>Delivery Fee</th>\n",
       "      <th>Cash collection</th>\n",
       "      <th>Worker</th>\n",
       "      <th>Dispatched</th>\n",
       "      <th>Completed</th>\n",
       "      <th>Assigned On</th>\n",
       "      <th>Status</th>\n",
       "    </tr>\n",
       "  </thead>\n",
       "  <tbody>\n",
       "  </tbody>\n",
       "</table>\n",
       "</div>"
      ],
      "text/plain": [
       "Empty DataFrame\n",
       "Columns: [Unnamed: 0, Order #, Waybill #, Order date, Scheduled for, Type, Delivery Fee, Cash collection, Worker, Dispatched, Completed, Assigned On, Status]\n",
       "Index: []"
      ]
     },
     "execution_count": 23,
     "metadata": {},
     "output_type": "execute_result"
    }
   ],
   "source": [
    "PICKUP[PICKUP['Type']=='DELIVERY']"
   ]
  },
  {
   "cell_type": "code",
   "execution_count": 24,
   "metadata": {},
   "outputs": [
    {
     "data": {
      "text/html": [
       "<div>\n",
       "<style scoped>\n",
       "    .dataframe tbody tr th:only-of-type {\n",
       "        vertical-align: middle;\n",
       "    }\n",
       "\n",
       "    .dataframe tbody tr th {\n",
       "        vertical-align: top;\n",
       "    }\n",
       "\n",
       "    .dataframe thead th {\n",
       "        text-align: right;\n",
       "    }\n",
       "</style>\n",
       "<table border=\"1\" class=\"dataframe\">\n",
       "  <thead>\n",
       "    <tr style=\"text-align: right;\">\n",
       "      <th></th>\n",
       "      <th>Unnamed: 0</th>\n",
       "      <th>Order #</th>\n",
       "      <th>Waybill #</th>\n",
       "      <th>Order date</th>\n",
       "      <th>Scheduled for</th>\n",
       "      <th>Type</th>\n",
       "      <th>Delivery Fee</th>\n",
       "      <th>Cash collection</th>\n",
       "      <th>Worker</th>\n",
       "      <th>Dispatched</th>\n",
       "      <th>Completed</th>\n",
       "      <th>Assigned On</th>\n",
       "      <th>Status</th>\n",
       "    </tr>\n",
       "  </thead>\n",
       "  <tbody>\n",
       "    <tr>\n",
       "      <th>0</th>\n",
       "      <td>1</td>\n",
       "      <td>1</td>\n",
       "      <td>1.0</td>\n",
       "      <td>1</td>\n",
       "      <td>1</td>\n",
       "      <td>1</td>\n",
       "      <td>1.0</td>\n",
       "      <td>1.0</td>\n",
       "      <td>1</td>\n",
       "      <td>1</td>\n",
       "      <td>1</td>\n",
       "      <td>1</td>\n",
       "      <td>1</td>\n",
       "    </tr>\n",
       "    <tr>\n",
       "      <th>1</th>\n",
       "      <td>0</td>\n",
       "      <td>9920000049</td>\n",
       "      <td>NaN</td>\n",
       "      <td>01 Jul, 2019 12:17 PM</td>\n",
       "      <td>01 Jul, 2019 05:00 PM</td>\n",
       "      <td>PICKUP</td>\n",
       "      <td>NaN</td>\n",
       "      <td>NaN</td>\n",
       "      <td>Driver1</td>\n",
       "      <td>01 Jul, 2019 12:21 PM</td>\n",
       "      <td>01 Jul, 2019 12:22 PM</td>\n",
       "      <td>01 Jul, 2019 12:19 PM</td>\n",
       "      <td>Completed</td>\n",
       "    </tr>\n",
       "    <tr>\n",
       "      <th>2</th>\n",
       "      <td>2</td>\n",
       "      <td>9920000050</td>\n",
       "      <td>NaN</td>\n",
       "      <td>01 Jul, 2019 12:30 PM</td>\n",
       "      <td>01 Jul, 2019 05:00 PM</td>\n",
       "      <td>PICKUP</td>\n",
       "      <td>NaN</td>\n",
       "      <td>NaN</td>\n",
       "      <td>Driver1</td>\n",
       "      <td>01 Jul, 2019 12:33 PM</td>\n",
       "      <td>01 Jul, 2019 12:34 PM</td>\n",
       "      <td>01 Jul, 2019 12:33 PM</td>\n",
       "      <td>Completed</td>\n",
       "    </tr>\n",
       "    <tr>\n",
       "      <th>3</th>\n",
       "      <td>4</td>\n",
       "      <td>9920000051</td>\n",
       "      <td>NaN</td>\n",
       "      <td>01 Jul, 2019 04:17 PM</td>\n",
       "      <td>01 Jul, 2019 05:16 PM</td>\n",
       "      <td>PICKUP</td>\n",
       "      <td>NaN</td>\n",
       "      <td>NaN</td>\n",
       "      <td>Driver2</td>\n",
       "      <td>01 Jul, 2019 04:23 PM</td>\n",
       "      <td>01 Jul, 2019 04:44 PM</td>\n",
       "      <td>01 Jul, 2019 04:19 PM</td>\n",
       "      <td>Completed</td>\n",
       "    </tr>\n",
       "    <tr>\n",
       "      <th>4</th>\n",
       "      <td>6</td>\n",
       "      <td>9314000012</td>\n",
       "      <td>NaN</td>\n",
       "      <td>01 Jul, 2019 05:01 PM</td>\n",
       "      <td>01 Jul, 2019 05:56 PM</td>\n",
       "      <td>PICKUP</td>\n",
       "      <td>NaN</td>\n",
       "      <td>NaN</td>\n",
       "      <td>Driver3</td>\n",
       "      <td>01 Jul, 2019 05:14 PM</td>\n",
       "      <td>01 Jul, 2019 05:29 PM</td>\n",
       "      <td>01 Jul, 2019 05:13 PM</td>\n",
       "      <td>Completed</td>\n",
       "    </tr>\n",
       "  </tbody>\n",
       "</table>\n",
       "</div>"
      ],
      "text/plain": [
       "   Unnamed: 0     Order #  Waybill #             Order date  \\\n",
       "0           1           1        1.0                      1   \n",
       "1           0  9920000049        NaN  01 Jul, 2019 12:17 PM   \n",
       "2           2  9920000050        NaN  01 Jul, 2019 12:30 PM   \n",
       "3           4  9920000051        NaN  01 Jul, 2019 04:17 PM   \n",
       "4           6  9314000012        NaN  01 Jul, 2019 05:01 PM   \n",
       "\n",
       "           Scheduled for    Type  Delivery Fee  Cash collection   Worker  \\\n",
       "0                      1       1           1.0              1.0        1   \n",
       "1  01 Jul, 2019 05:00 PM  PICKUP           NaN              NaN  Driver1   \n",
       "2  01 Jul, 2019 05:00 PM  PICKUP           NaN              NaN  Driver1   \n",
       "3  01 Jul, 2019 05:16 PM  PICKUP           NaN              NaN  Driver2   \n",
       "4  01 Jul, 2019 05:56 PM  PICKUP           NaN              NaN  Driver3   \n",
       "\n",
       "              Dispatched              Completed            Assigned On  \\\n",
       "0                      1                      1                      1   \n",
       "1  01 Jul, 2019 12:21 PM  01 Jul, 2019 12:22 PM  01 Jul, 2019 12:19 PM   \n",
       "2  01 Jul, 2019 12:33 PM  01 Jul, 2019 12:34 PM  01 Jul, 2019 12:33 PM   \n",
       "3  01 Jul, 2019 04:23 PM  01 Jul, 2019 04:44 PM  01 Jul, 2019 04:19 PM   \n",
       "4  01 Jul, 2019 05:14 PM  01 Jul, 2019 05:29 PM  01 Jul, 2019 05:13 PM   \n",
       "\n",
       "      Status  \n",
       "0          1  \n",
       "1  Completed  \n",
       "2  Completed  \n",
       "3  Completed  \n",
       "4  Completed  "
      ]
     },
     "execution_count": 24,
     "metadata": {},
     "output_type": "execute_result"
    }
   ],
   "source": [
    "PICKUP.head()"
   ]
  },
  {
   "cell_type": "code",
   "execution_count": 25,
   "metadata": {},
   "outputs": [
    {
     "data": {
      "text/html": [
       "<div>\n",
       "<style scoped>\n",
       "    .dataframe tbody tr th:only-of-type {\n",
       "        vertical-align: middle;\n",
       "    }\n",
       "\n",
       "    .dataframe tbody tr th {\n",
       "        vertical-align: top;\n",
       "    }\n",
       "\n",
       "    .dataframe thead th {\n",
       "        text-align: right;\n",
       "    }\n",
       "</style>\n",
       "<table border=\"1\" class=\"dataframe\">\n",
       "  <thead>\n",
       "    <tr style=\"text-align: right;\">\n",
       "      <th></th>\n",
       "      <th>Unnamed: 0</th>\n",
       "      <th>Order #</th>\n",
       "      <th>Waybill #</th>\n",
       "      <th>Order date</th>\n",
       "      <th>Scheduled for</th>\n",
       "      <th>Type</th>\n",
       "      <th>Delivery Fee</th>\n",
       "      <th>Cash collection</th>\n",
       "      <th>Worker</th>\n",
       "      <th>Dispatched</th>\n",
       "      <th>Completed</th>\n",
       "      <th>Assigned On</th>\n",
       "      <th>Status</th>\n",
       "    </tr>\n",
       "  </thead>\n",
       "  <tbody>\n",
       "    <tr>\n",
       "      <th>0</th>\n",
       "      <td>1</td>\n",
       "      <td>1</td>\n",
       "      <td>1.0</td>\n",
       "      <td>1</td>\n",
       "      <td>1</td>\n",
       "      <td>1</td>\n",
       "      <td>1.0</td>\n",
       "      <td>1.0</td>\n",
       "      <td>1</td>\n",
       "      <td>1</td>\n",
       "      <td>1</td>\n",
       "      <td>1</td>\n",
       "      <td>1</td>\n",
       "    </tr>\n",
       "    <tr>\n",
       "      <th>1</th>\n",
       "      <td>1</td>\n",
       "      <td>9920000049</td>\n",
       "      <td>NaN</td>\n",
       "      <td>01 Jul, 2019 12:17 PM</td>\n",
       "      <td>01 Jul, 2019 05:00 PM</td>\n",
       "      <td>DELIVERY</td>\n",
       "      <td>NaN</td>\n",
       "      <td>101.7</td>\n",
       "      <td>Driver1</td>\n",
       "      <td>01 Jul, 2019 12:22 PM</td>\n",
       "      <td>01 Jul, 2019 12:22 PM</td>\n",
       "      <td>01 Jul, 2019 12:19 PM</td>\n",
       "      <td>Completed</td>\n",
       "    </tr>\n",
       "    <tr>\n",
       "      <th>2</th>\n",
       "      <td>3</td>\n",
       "      <td>9920000050</td>\n",
       "      <td>NaN</td>\n",
       "      <td>01 Jul, 2019 12:30 PM</td>\n",
       "      <td>01 Jul, 2019 05:00 PM</td>\n",
       "      <td>DELIVERY</td>\n",
       "      <td>NaN</td>\n",
       "      <td>486.0</td>\n",
       "      <td>Driver1</td>\n",
       "      <td>01 Jul, 2019 12:34 PM</td>\n",
       "      <td>01 Jul, 2019 12:35 PM</td>\n",
       "      <td>01 Jul, 2019 12:33 PM</td>\n",
       "      <td>Completed</td>\n",
       "    </tr>\n",
       "    <tr>\n",
       "      <th>3</th>\n",
       "      <td>5</td>\n",
       "      <td>9920000051</td>\n",
       "      <td>NaN</td>\n",
       "      <td>01 Jul, 2019 04:17 PM</td>\n",
       "      <td>01 Jul, 2019 05:16 PM</td>\n",
       "      <td>DELIVERY</td>\n",
       "      <td>NaN</td>\n",
       "      <td>54.9</td>\n",
       "      <td>Driver2</td>\n",
       "      <td>01 Jul, 2019 04:45 PM</td>\n",
       "      <td>01 Jul, 2019 04:56 PM</td>\n",
       "      <td>01 Jul, 2019 04:19 PM</td>\n",
       "      <td>Completed</td>\n",
       "    </tr>\n",
       "    <tr>\n",
       "      <th>4</th>\n",
       "      <td>7</td>\n",
       "      <td>9314000012</td>\n",
       "      <td>NaN</td>\n",
       "      <td>01 Jul, 2019 05:01 PM</td>\n",
       "      <td>01 Jul, 2019 05:56 PM</td>\n",
       "      <td>DELIVERY</td>\n",
       "      <td>NaN</td>\n",
       "      <td>157.5</td>\n",
       "      <td>Driver3</td>\n",
       "      <td>01 Jul, 2019 05:48 PM</td>\n",
       "      <td>01 Jul, 2019 05:50 PM</td>\n",
       "      <td>01 Jul, 2019 05:13 PM</td>\n",
       "      <td>Completed</td>\n",
       "    </tr>\n",
       "  </tbody>\n",
       "</table>\n",
       "</div>"
      ],
      "text/plain": [
       "   Unnamed: 0     Order #  Waybill #             Order date  \\\n",
       "0           1           1        1.0                      1   \n",
       "1           1  9920000049        NaN  01 Jul, 2019 12:17 PM   \n",
       "2           3  9920000050        NaN  01 Jul, 2019 12:30 PM   \n",
       "3           5  9920000051        NaN  01 Jul, 2019 04:17 PM   \n",
       "4           7  9314000012        NaN  01 Jul, 2019 05:01 PM   \n",
       "\n",
       "           Scheduled for      Type  Delivery Fee  Cash collection   Worker  \\\n",
       "0                      1         1           1.0              1.0        1   \n",
       "1  01 Jul, 2019 05:00 PM  DELIVERY           NaN            101.7  Driver1   \n",
       "2  01 Jul, 2019 05:00 PM  DELIVERY           NaN            486.0  Driver1   \n",
       "3  01 Jul, 2019 05:16 PM  DELIVERY           NaN             54.9  Driver2   \n",
       "4  01 Jul, 2019 05:56 PM  DELIVERY           NaN            157.5  Driver3   \n",
       "\n",
       "              Dispatched              Completed            Assigned On  \\\n",
       "0                      1                      1                      1   \n",
       "1  01 Jul, 2019 12:22 PM  01 Jul, 2019 12:22 PM  01 Jul, 2019 12:19 PM   \n",
       "2  01 Jul, 2019 12:34 PM  01 Jul, 2019 12:35 PM  01 Jul, 2019 12:33 PM   \n",
       "3  01 Jul, 2019 04:45 PM  01 Jul, 2019 04:56 PM  01 Jul, 2019 04:19 PM   \n",
       "4  01 Jul, 2019 05:48 PM  01 Jul, 2019 05:50 PM  01 Jul, 2019 05:13 PM   \n",
       "\n",
       "      Status  \n",
       "0          1  \n",
       "1  Completed  \n",
       "2  Completed  \n",
       "3  Completed  \n",
       "4  Completed  "
      ]
     },
     "execution_count": 25,
     "metadata": {},
     "output_type": "execute_result"
    }
   ],
   "source": [
    "DELIVERY.head()"
   ]
  },
  {
   "cell_type": "code",
   "execution_count": 26,
   "metadata": {},
   "outputs": [],
   "source": [
    "PICKUP.drop(PICKUP.index[0],axis=0,inplace=True)\n"
   ]
  },
  {
   "cell_type": "code",
   "execution_count": 27,
   "metadata": {},
   "outputs": [],
   "source": [
    "DELIVERY.drop(DELIVERY.index[0],axis=0,inplace=True)"
   ]
  },
  {
   "cell_type": "code",
   "execution_count": 28,
   "metadata": {},
   "outputs": [],
   "source": [
    "ddf=pd.merge(PICKUP,DELIVERY[['Order #','Dispatched','Completed','Assigned On','Status']],on='Order #',how='left')"
   ]
  },
  {
   "cell_type": "code",
   "execution_count": 29,
   "metadata": {},
   "outputs": [
    {
     "data": {
      "text/plain": [
       "Index(['Unnamed: 0', 'Order #', 'Waybill #', 'Order date', 'Scheduled for',\n",
       "       'Type', 'Delivery Fee', 'Cash collection', 'Worker', 'Dispatched_x',\n",
       "       'Completed_x', 'Assigned On_x', 'Status_x', 'Dispatched_y',\n",
       "       'Completed_y', 'Assigned On_y', 'Status_y'],\n",
       "      dtype='object')"
      ]
     },
     "execution_count": 29,
     "metadata": {},
     "output_type": "execute_result"
    }
   ],
   "source": [
    "ddf.columns"
   ]
  },
  {
   "cell_type": "code",
   "execution_count": 30,
   "metadata": {},
   "outputs": [],
   "source": [
    "ddf.columns =['Unnamed: 0', 'Order #', 'Waybill #', 'Order date', 'Scheduled for',\n",
    "       'Type', 'Delivery Fee', 'Cash collection', 'Worker', 'Dispatched_pickup',\n",
    "       'Completed_pickup', 'Assigned On_pickup', 'Status_pickup', 'Dispatched_delivery',\n",
    "       'Completed_delivery', 'Assigned On_delivery', 'Status_delivery']"
   ]
  },
  {
   "cell_type": "code",
   "execution_count": 31,
   "metadata": {},
   "outputs": [
    {
     "data": {
      "text/plain": [
       "Index(['Unnamed: 0', 'Order #', 'Waybill #', 'Order date', 'Scheduled for',\n",
       "       'Type', 'Delivery Fee', 'Cash collection', 'Worker',\n",
       "       'Dispatched_pickup', 'Completed_pickup', 'Assigned On_pickup',\n",
       "       'Status_pickup', 'Dispatched_delivery', 'Completed_delivery',\n",
       "       'Assigned On_delivery', 'Status_delivery'],\n",
       "      dtype='object')"
      ]
     },
     "execution_count": 31,
     "metadata": {},
     "output_type": "execute_result"
    }
   ],
   "source": [
    "ddf.columns\n"
   ]
  },
  {
   "cell_type": "code",
   "execution_count": 32,
   "metadata": {},
   "outputs": [],
   "source": [
    "ddf.drop(['Unnamed: 0','Type'], axis = 1,inplace=True) \n"
   ]
  },
  {
   "cell_type": "code",
   "execution_count": 33,
   "metadata": {},
   "outputs": [
    {
     "data": {
      "text/html": [
       "<div>\n",
       "<style scoped>\n",
       "    .dataframe tbody tr th:only-of-type {\n",
       "        vertical-align: middle;\n",
       "    }\n",
       "\n",
       "    .dataframe tbody tr th {\n",
       "        vertical-align: top;\n",
       "    }\n",
       "\n",
       "    .dataframe thead th {\n",
       "        text-align: right;\n",
       "    }\n",
       "</style>\n",
       "<table border=\"1\" class=\"dataframe\">\n",
       "  <thead>\n",
       "    <tr style=\"text-align: right;\">\n",
       "      <th></th>\n",
       "      <th>Order #</th>\n",
       "      <th>Waybill #</th>\n",
       "      <th>Order date</th>\n",
       "      <th>Scheduled for</th>\n",
       "      <th>Delivery Fee</th>\n",
       "      <th>Cash collection</th>\n",
       "      <th>Worker</th>\n",
       "      <th>Dispatched_pickup</th>\n",
       "      <th>Completed_pickup</th>\n",
       "      <th>Assigned On_pickup</th>\n",
       "      <th>Status_pickup</th>\n",
       "      <th>Dispatched_delivery</th>\n",
       "      <th>Completed_delivery</th>\n",
       "      <th>Assigned On_delivery</th>\n",
       "      <th>Status_delivery</th>\n",
       "    </tr>\n",
       "  </thead>\n",
       "  <tbody>\n",
       "    <tr>\n",
       "      <th>0</th>\n",
       "      <td>9920000049</td>\n",
       "      <td>NaN</td>\n",
       "      <td>01 Jul, 2019 12:17 PM</td>\n",
       "      <td>01 Jul, 2019 05:00 PM</td>\n",
       "      <td>NaN</td>\n",
       "      <td>NaN</td>\n",
       "      <td>Driver1</td>\n",
       "      <td>01 Jul, 2019 12:21 PM</td>\n",
       "      <td>01 Jul, 2019 12:22 PM</td>\n",
       "      <td>01 Jul, 2019 12:19 PM</td>\n",
       "      <td>Completed</td>\n",
       "      <td>01 Jul, 2019 12:22 PM</td>\n",
       "      <td>01 Jul, 2019 12:22 PM</td>\n",
       "      <td>01 Jul, 2019 12:19 PM</td>\n",
       "      <td>Completed</td>\n",
       "    </tr>\n",
       "    <tr>\n",
       "      <th>1</th>\n",
       "      <td>9920000050</td>\n",
       "      <td>NaN</td>\n",
       "      <td>01 Jul, 2019 12:30 PM</td>\n",
       "      <td>01 Jul, 2019 05:00 PM</td>\n",
       "      <td>NaN</td>\n",
       "      <td>NaN</td>\n",
       "      <td>Driver1</td>\n",
       "      <td>01 Jul, 2019 12:33 PM</td>\n",
       "      <td>01 Jul, 2019 12:34 PM</td>\n",
       "      <td>01 Jul, 2019 12:33 PM</td>\n",
       "      <td>Completed</td>\n",
       "      <td>01 Jul, 2019 12:34 PM</td>\n",
       "      <td>01 Jul, 2019 12:35 PM</td>\n",
       "      <td>01 Jul, 2019 12:33 PM</td>\n",
       "      <td>Completed</td>\n",
       "    </tr>\n",
       "    <tr>\n",
       "      <th>2</th>\n",
       "      <td>9920000051</td>\n",
       "      <td>NaN</td>\n",
       "      <td>01 Jul, 2019 04:17 PM</td>\n",
       "      <td>01 Jul, 2019 05:16 PM</td>\n",
       "      <td>NaN</td>\n",
       "      <td>NaN</td>\n",
       "      <td>Driver2</td>\n",
       "      <td>01 Jul, 2019 04:23 PM</td>\n",
       "      <td>01 Jul, 2019 04:44 PM</td>\n",
       "      <td>01 Jul, 2019 04:19 PM</td>\n",
       "      <td>Completed</td>\n",
       "      <td>01 Jul, 2019 04:45 PM</td>\n",
       "      <td>01 Jul, 2019 04:56 PM</td>\n",
       "      <td>01 Jul, 2019 04:19 PM</td>\n",
       "      <td>Completed</td>\n",
       "    </tr>\n",
       "    <tr>\n",
       "      <th>3</th>\n",
       "      <td>9314000012</td>\n",
       "      <td>NaN</td>\n",
       "      <td>01 Jul, 2019 05:01 PM</td>\n",
       "      <td>01 Jul, 2019 05:56 PM</td>\n",
       "      <td>NaN</td>\n",
       "      <td>NaN</td>\n",
       "      <td>Driver3</td>\n",
       "      <td>01 Jul, 2019 05:14 PM</td>\n",
       "      <td>01 Jul, 2019 05:29 PM</td>\n",
       "      <td>01 Jul, 2019 05:13 PM</td>\n",
       "      <td>Completed</td>\n",
       "      <td>01 Jul, 2019 05:48 PM</td>\n",
       "      <td>01 Jul, 2019 05:50 PM</td>\n",
       "      <td>01 Jul, 2019 05:13 PM</td>\n",
       "      <td>Completed</td>\n",
       "    </tr>\n",
       "    <tr>\n",
       "      <th>4</th>\n",
       "      <td>9314000013</td>\n",
       "      <td>NaN</td>\n",
       "      <td>01 Jul, 2019 05:09 PM</td>\n",
       "      <td>01 Jul, 2019 06:05 PM</td>\n",
       "      <td>NaN</td>\n",
       "      <td>NaN</td>\n",
       "      <td>Driver4</td>\n",
       "      <td>01 Jul, 2019 05:11 PM</td>\n",
       "      <td>01 Jul, 2019 05:30 PM</td>\n",
       "      <td>01 Jul, 2019 05:10 PM</td>\n",
       "      <td>Completed</td>\n",
       "      <td>01 Jul, 2019 05:30 PM</td>\n",
       "      <td>01 Jul, 2019 05:47 PM</td>\n",
       "      <td>01 Jul, 2019 05:10 PM</td>\n",
       "      <td>Completed</td>\n",
       "    </tr>\n",
       "  </tbody>\n",
       "</table>\n",
       "</div>"
      ],
      "text/plain": [
       "      Order #  Waybill #             Order date          Scheduled for  \\\n",
       "0  9920000049        NaN  01 Jul, 2019 12:17 PM  01 Jul, 2019 05:00 PM   \n",
       "1  9920000050        NaN  01 Jul, 2019 12:30 PM  01 Jul, 2019 05:00 PM   \n",
       "2  9920000051        NaN  01 Jul, 2019 04:17 PM  01 Jul, 2019 05:16 PM   \n",
       "3  9314000012        NaN  01 Jul, 2019 05:01 PM  01 Jul, 2019 05:56 PM   \n",
       "4  9314000013        NaN  01 Jul, 2019 05:09 PM  01 Jul, 2019 06:05 PM   \n",
       "\n",
       "   Delivery Fee  Cash collection   Worker      Dispatched_pickup  \\\n",
       "0           NaN              NaN  Driver1  01 Jul, 2019 12:21 PM   \n",
       "1           NaN              NaN  Driver1  01 Jul, 2019 12:33 PM   \n",
       "2           NaN              NaN  Driver2  01 Jul, 2019 04:23 PM   \n",
       "3           NaN              NaN  Driver3  01 Jul, 2019 05:14 PM   \n",
       "4           NaN              NaN  Driver4  01 Jul, 2019 05:11 PM   \n",
       "\n",
       "        Completed_pickup     Assigned On_pickup Status_pickup  \\\n",
       "0  01 Jul, 2019 12:22 PM  01 Jul, 2019 12:19 PM     Completed   \n",
       "1  01 Jul, 2019 12:34 PM  01 Jul, 2019 12:33 PM     Completed   \n",
       "2  01 Jul, 2019 04:44 PM  01 Jul, 2019 04:19 PM     Completed   \n",
       "3  01 Jul, 2019 05:29 PM  01 Jul, 2019 05:13 PM     Completed   \n",
       "4  01 Jul, 2019 05:30 PM  01 Jul, 2019 05:10 PM     Completed   \n",
       "\n",
       "     Dispatched_delivery     Completed_delivery   Assigned On_delivery  \\\n",
       "0  01 Jul, 2019 12:22 PM  01 Jul, 2019 12:22 PM  01 Jul, 2019 12:19 PM   \n",
       "1  01 Jul, 2019 12:34 PM  01 Jul, 2019 12:35 PM  01 Jul, 2019 12:33 PM   \n",
       "2  01 Jul, 2019 04:45 PM  01 Jul, 2019 04:56 PM  01 Jul, 2019 04:19 PM   \n",
       "3  01 Jul, 2019 05:48 PM  01 Jul, 2019 05:50 PM  01 Jul, 2019 05:13 PM   \n",
       "4  01 Jul, 2019 05:30 PM  01 Jul, 2019 05:47 PM  01 Jul, 2019 05:10 PM   \n",
       "\n",
       "  Status_delivery  \n",
       "0       Completed  \n",
       "1       Completed  \n",
       "2       Completed  \n",
       "3       Completed  \n",
       "4       Completed  "
      ]
     },
     "execution_count": 33,
     "metadata": {},
     "output_type": "execute_result"
    }
   ],
   "source": [
    "ddf.head()"
   ]
  },
  {
   "cell_type": "code",
   "execution_count": 34,
   "metadata": {},
   "outputs": [
    {
     "data": {
      "text/plain": [
       "(188, 15)"
      ]
     },
     "execution_count": 34,
     "metadata": {},
     "output_type": "execute_result"
    }
   ],
   "source": [
    "ddf.shape"
   ]
  },
  {
   "cell_type": "code",
   "execution_count": 35,
   "metadata": {},
   "outputs": [
    {
     "name": "stdout",
     "output_type": "stream",
     "text": [
      "<class 'pandas.core.frame.DataFrame'>\n",
      "Int64Index: 188 entries, 0 to 187\n",
      "Data columns (total 15 columns):\n",
      "Order #                 188 non-null int64\n",
      "Waybill #               0 non-null float64\n",
      "Order date              188 non-null object\n",
      "Scheduled for           188 non-null object\n",
      "Delivery Fee            0 non-null float64\n",
      "Cash collection         0 non-null float64\n",
      "Worker                  188 non-null object\n",
      "Dispatched_pickup       188 non-null object\n",
      "Completed_pickup        188 non-null object\n",
      "Assigned On_pickup      188 non-null object\n",
      "Status_pickup           188 non-null object\n",
      "Dispatched_delivery     186 non-null object\n",
      "Completed_delivery      187 non-null object\n",
      "Assigned On_delivery    187 non-null object\n",
      "Status_delivery         187 non-null object\n",
      "dtypes: float64(3), int64(1), object(11)\n",
      "memory usage: 23.5+ KB\n"
     ]
    }
   ],
   "source": [
    "ddf.info()"
   ]
  },
  {
   "cell_type": "code",
   "execution_count": 36,
   "metadata": {},
   "outputs": [],
   "source": [
    "ddf.drop(['Waybill #','Delivery Fee','Cash collection'], axis = 1,inplace=True) \n"
   ]
  },
  {
   "cell_type": "code",
   "execution_count": 37,
   "metadata": {},
   "outputs": [
    {
     "name": "stdout",
     "output_type": "stream",
     "text": [
      "<class 'pandas.core.frame.DataFrame'>\n",
      "RangeIndex: 203 entries, 0 to 202\n",
      "Data columns (total 13 columns):\n",
      "Unnamed: 0         203 non-null int64\n",
      "Order #            203 non-null int64\n",
      "Created On         203 non-null object\n",
      "Merchant           203 non-null object\n",
      "Payment            203 non-null object\n",
      "Sub total          203 non-null float64\n",
      "Delivery charge    203 non-null int64\n",
      "Vat                80 non-null float64\n",
      "Total              203 non-null float64\n",
      "Discount           78 non-null object\n",
      "Wallet             203 non-null int64\n",
      "Cash Collection    203 non-null float64\n",
      "Driver Name        203 non-null object\n",
      "dtypes: float64(4), int64(4), object(5)\n",
      "memory usage: 20.7+ KB\n"
     ]
    }
   ],
   "source": [
    "odf.info()"
   ]
  },
  {
   "cell_type": "code",
   "execution_count": 38,
   "metadata": {},
   "outputs": [
    {
     "name": "stdout",
     "output_type": "stream",
     "text": [
      "0\n"
     ]
    }
   ],
   "source": [
    "print(odf.duplicated(['Order #']).sum())"
   ]
  },
  {
   "cell_type": "code",
   "execution_count": 39,
   "metadata": {},
   "outputs": [
    {
     "name": "stdout",
     "output_type": "stream",
     "text": [
      "0\n"
     ]
    }
   ],
   "source": [
    "print(ddf.duplicated(['Order #']).sum())"
   ]
  },
  {
   "cell_type": "code",
   "execution_count": 40,
   "metadata": {},
   "outputs": [
    {
     "data": {
      "text/plain": [
       "Discount           125\n",
       "Vat                123\n",
       "Driver Name          0\n",
       "Cash Collection      0\n",
       "Wallet               0\n",
       "Total                0\n",
       "Delivery charge      0\n",
       "Sub total            0\n",
       "Payment              0\n",
       "Merchant             0\n",
       "Created On           0\n",
       "Order #              0\n",
       "Unnamed: 0           0\n",
       "dtype: int64"
      ]
     },
     "execution_count": 40,
     "metadata": {},
     "output_type": "execute_result"
    }
   ],
   "source": [
    "odf.isnull().sum().sort_values(ascending=False)\n"
   ]
  },
  {
   "cell_type": "code",
   "execution_count": 41,
   "metadata": {},
   "outputs": [],
   "source": [
    "odf.drop(['Unnamed: 0'], axis = 1,inplace=True) "
   ]
  },
  {
   "cell_type": "code",
   "execution_count": 42,
   "metadata": {},
   "outputs": [
    {
     "data": {
      "text/plain": [
       "array([nan, '10.0% OFF TOTAL'], dtype=object)"
      ]
     },
     "execution_count": 42,
     "metadata": {},
     "output_type": "execute_result"
    }
   ],
   "source": [
    "odf['Discount'].unique()\n"
   ]
  },
  {
   "cell_type": "code",
   "execution_count": 43,
   "metadata": {},
   "outputs": [],
   "source": [
    "#according to the above statement i assume that Discount column with missing values has no discount\n",
    "\n",
    "\n",
    "odf['Discount']=odf['Discount'].replace(np.nan, 'No discount')"
   ]
  },
  {
   "cell_type": "code",
   "execution_count": 44,
   "metadata": {},
   "outputs": [
    {
     "data": {
      "text/plain": [
       "array(['No discount', '10.0% OFF TOTAL'], dtype=object)"
      ]
     },
     "execution_count": 44,
     "metadata": {},
     "output_type": "execute_result"
    }
   ],
   "source": [
    "odf['Discount'].unique()"
   ]
  },
  {
   "cell_type": "code",
   "execution_count": 45,
   "metadata": {},
   "outputs": [
    {
     "data": {
      "text/plain": [
       "array([nan,  0.])"
      ]
     },
     "execution_count": 45,
     "metadata": {},
     "output_type": "execute_result"
    }
   ],
   "source": [
    "odf['Vat'].unique()"
   ]
  },
  {
   "cell_type": "code",
   "execution_count": 46,
   "metadata": {},
   "outputs": [],
   "source": [
    "odf['Vat'] = odf['Vat'].fillna(odf['Vat'].mode()[0])\n"
   ]
  },
  {
   "cell_type": "code",
   "execution_count": 47,
   "metadata": {},
   "outputs": [
    {
     "data": {
      "text/plain": [
       "array([0.])"
      ]
     },
     "execution_count": 47,
     "metadata": {},
     "output_type": "execute_result"
    }
   ],
   "source": [
    "odf['Vat'].unique()"
   ]
  },
  {
   "cell_type": "code",
   "execution_count": 48,
   "metadata": {},
   "outputs": [
    {
     "name": "stdout",
     "output_type": "stream",
     "text": [
      "<class 'pandas.core.frame.DataFrame'>\n",
      "RangeIndex: 203 entries, 0 to 202\n",
      "Data columns (total 12 columns):\n",
      "Order #            203 non-null int64\n",
      "Created On         203 non-null object\n",
      "Merchant           203 non-null object\n",
      "Payment            203 non-null object\n",
      "Sub total          203 non-null float64\n",
      "Delivery charge    203 non-null int64\n",
      "Vat                203 non-null float64\n",
      "Total              203 non-null float64\n",
      "Discount           203 non-null object\n",
      "Wallet             203 non-null int64\n",
      "Cash Collection    203 non-null float64\n",
      "Driver Name        203 non-null object\n",
      "dtypes: float64(4), int64(3), object(5)\n",
      "memory usage: 19.1+ KB\n"
     ]
    }
   ],
   "source": [
    "odf.info()"
   ]
  },
  {
   "cell_type": "code",
   "execution_count": 49,
   "metadata": {},
   "outputs": [
    {
     "data": {
      "text/plain": [
       "Dispatched_delivery     2\n",
       "Status_delivery         1\n",
       "Assigned On_delivery    1\n",
       "Completed_delivery      1\n",
       "Status_pickup           0\n",
       "Assigned On_pickup      0\n",
       "Completed_pickup        0\n",
       "Dispatched_pickup       0\n",
       "Worker                  0\n",
       "Scheduled for           0\n",
       "Order date              0\n",
       "Order #                 0\n",
       "dtype: int64"
      ]
     },
     "execution_count": 49,
     "metadata": {},
     "output_type": "execute_result"
    }
   ],
   "source": [
    "ddf.isnull().sum().sort_values(ascending=False)\n"
   ]
  },
  {
   "cell_type": "code",
   "execution_count": 50,
   "metadata": {},
   "outputs": [
    {
     "data": {
      "text/plain": [
       "array(['Completed', nan], dtype=object)"
      ]
     },
     "execution_count": 50,
     "metadata": {},
     "output_type": "execute_result"
    }
   ],
   "source": [
    "ddf['Status_delivery'].unique()"
   ]
  },
  {
   "cell_type": "code",
   "execution_count": 51,
   "metadata": {},
   "outputs": [
    {
     "data": {
      "text/plain": [
       "array(['Driver1', 'Driver2', 'Driver3', 'Driver4', 'Driver5', 'Driver6',\n",
       "       'Driver7', 'Driver8', 'Driver9', 'Driver10', 'Driver11',\n",
       "       'Driver12', 'Driver13', 'Driver14', 'Driver15', 'Driver16',\n",
       "       'Driver17', 'Driver18', 'Driver19', 'Driver20', 'Driver21',\n",
       "       'Driver22', 'Driver23', 'Driver24'], dtype=object)"
      ]
     },
     "execution_count": 51,
     "metadata": {},
     "output_type": "execute_result"
    }
   ],
   "source": [
    "ddf['Worker'].unique()\n",
    "       "
   ]
  },
  {
   "cell_type": "code",
   "execution_count": 52,
   "metadata": {},
   "outputs": [],
   "source": [
    "compare = ddf[ddf['Assigned On_delivery'] != ddf['Assigned On_pickup']]"
   ]
  },
  {
   "cell_type": "code",
   "execution_count": 53,
   "metadata": {},
   "outputs": [
    {
     "data": {
      "text/html": [
       "<div>\n",
       "<style scoped>\n",
       "    .dataframe tbody tr th:only-of-type {\n",
       "        vertical-align: middle;\n",
       "    }\n",
       "\n",
       "    .dataframe tbody tr th {\n",
       "        vertical-align: top;\n",
       "    }\n",
       "\n",
       "    .dataframe thead th {\n",
       "        text-align: right;\n",
       "    }\n",
       "</style>\n",
       "<table border=\"1\" class=\"dataframe\">\n",
       "  <thead>\n",
       "    <tr style=\"text-align: right;\">\n",
       "      <th></th>\n",
       "      <th>Order #</th>\n",
       "      <th>Order date</th>\n",
       "      <th>Scheduled for</th>\n",
       "      <th>Worker</th>\n",
       "      <th>Dispatched_pickup</th>\n",
       "      <th>Completed_pickup</th>\n",
       "      <th>Assigned On_pickup</th>\n",
       "      <th>Status_pickup</th>\n",
       "      <th>Dispatched_delivery</th>\n",
       "      <th>Completed_delivery</th>\n",
       "      <th>Assigned On_delivery</th>\n",
       "      <th>Status_delivery</th>\n",
       "    </tr>\n",
       "  </thead>\n",
       "  <tbody>\n",
       "    <tr>\n",
       "      <th>5</th>\n",
       "      <td>9314000014</td>\n",
       "      <td>01 Jul, 2019 05:41 PM</td>\n",
       "      <td>01 Jul, 2019 06:39 PM</td>\n",
       "      <td>Driver4</td>\n",
       "      <td>01 Jul, 2019 05:59 PM</td>\n",
       "      <td>01 Jul, 2019 06:03 PM</td>\n",
       "      <td>01 Jul, 2019 05:48 PM</td>\n",
       "      <td>Completed</td>\n",
       "      <td>01 Jul, 2019 06:25 PM</td>\n",
       "      <td>01 Jul, 2019 07:01 PM</td>\n",
       "      <td>01 Jul, 2019 06:25 PM</td>\n",
       "      <td>Completed</td>\n",
       "    </tr>\n",
       "    <tr>\n",
       "      <th>59</th>\n",
       "      <td>9920000096</td>\n",
       "      <td>05 Jul, 2019 09:07 PM</td>\n",
       "      <td>05 Jul, 2019 10:04 PM</td>\n",
       "      <td>Driver11</td>\n",
       "      <td>05 Jul, 2019 09:07 PM</td>\n",
       "      <td>05 Jul, 2019 09:07 PM</td>\n",
       "      <td>05 Jul, 2019 09:07 PM</td>\n",
       "      <td>Completed</td>\n",
       "      <td>NaN</td>\n",
       "      <td>NaN</td>\n",
       "      <td>NaN</td>\n",
       "      <td>NaN</td>\n",
       "    </tr>\n",
       "  </tbody>\n",
       "</table>\n",
       "</div>"
      ],
      "text/plain": [
       "       Order #             Order date          Scheduled for    Worker  \\\n",
       "5   9314000014  01 Jul, 2019 05:41 PM  01 Jul, 2019 06:39 PM   Driver4   \n",
       "59  9920000096  05 Jul, 2019 09:07 PM  05 Jul, 2019 10:04 PM  Driver11   \n",
       "\n",
       "        Dispatched_pickup       Completed_pickup     Assigned On_pickup  \\\n",
       "5   01 Jul, 2019 05:59 PM  01 Jul, 2019 06:03 PM  01 Jul, 2019 05:48 PM   \n",
       "59  05 Jul, 2019 09:07 PM  05 Jul, 2019 09:07 PM  05 Jul, 2019 09:07 PM   \n",
       "\n",
       "   Status_pickup    Dispatched_delivery     Completed_delivery  \\\n",
       "5      Completed  01 Jul, 2019 06:25 PM  01 Jul, 2019 07:01 PM   \n",
       "59     Completed                    NaN                    NaN   \n",
       "\n",
       "     Assigned On_delivery Status_delivery  \n",
       "5   01 Jul, 2019 06:25 PM       Completed  \n",
       "59                    NaN             NaN  "
      ]
     },
     "execution_count": 53,
     "metadata": {},
     "output_type": "execute_result"
    }
   ],
   "source": [
    "compare"
   ]
  },
  {
   "cell_type": "code",
   "execution_count": 54,
   "metadata": {},
   "outputs": [
    {
     "data": {
      "text/plain": [
       "1"
      ]
     },
     "execution_count": 54,
     "metadata": {},
     "output_type": "execute_result"
    }
   ],
   "source": [
    "#according to the above statement i assume that Assigned On_delivery = Assigned On_pickup,it was false only in one row \n",
    "\n",
    "\n",
    "#ddf['Assigned On_delivery'][59] =ddf['Assigned On_pickup'][59]\n",
    "ddf['Assigned On_delivery'] = np.where(ddf['Assigned On_delivery'].\\\n",
    "                                       isnull(),ddf['Assigned On_delivery'],ddf['Assigned On_pickup'])\n",
    "\n",
    "\n",
    "ddf['Assigned On_delivery'].isnull().sum()"
   ]
  },
  {
   "cell_type": "markdown",
   "metadata": {},
   "source": [
    "# 4. Save the new dataframe in a new excel file to be used later\n",
    "(Orders_and_deliveries.xslx)"
   ]
  },
  {
   "cell_type": "code",
   "execution_count": 55,
   "metadata": {},
   "outputs": [],
   "source": [
    "Orders_and_deliveries=pd.merge(odf,ddf,on='Order #')\n",
    "#Orders_and_deliveries.to_excel(r'Orders_and_deliveries.xslx')\n"
   ]
  },
  {
   "cell_type": "code",
   "execution_count": 56,
   "metadata": {},
   "outputs": [],
   "source": [
    "export_excel = Orders_and_deliveries.to_excel (r'C:\\Users\\shrougalbahoth\\Desktop\\Orders_and_deliveries.xlsx', index = None, header=True)\n",
    "\n"
   ]
  },
  {
   "cell_type": "code",
   "execution_count": 57,
   "metadata": {},
   "outputs": [],
   "source": [
    "data = pd.read_excel('Orders_and_deliveries.xlsx')"
   ]
  },
  {
   "cell_type": "code",
   "execution_count": 58,
   "metadata": {},
   "outputs": [
    {
     "data": {
      "text/plain": [
       "(187, 23)"
      ]
     },
     "execution_count": 58,
     "metadata": {},
     "output_type": "execute_result"
    }
   ],
   "source": [
    "data.shape"
   ]
  },
  {
   "cell_type": "code",
   "execution_count": 59,
   "metadata": {},
   "outputs": [
    {
     "data": {
      "text/plain": [
       "Index(['Order #', 'Created On', 'Merchant', 'Payment', 'Sub total',\n",
       "       'Delivery charge', 'Vat', 'Total', 'Discount', 'Wallet',\n",
       "       'Cash Collection', 'Driver Name', 'Order date', 'Scheduled for',\n",
       "       'Worker', 'Dispatched_pickup', 'Completed_pickup', 'Assigned On_pickup',\n",
       "       'Status_pickup', 'Dispatched_delivery', 'Completed_delivery',\n",
       "       'Assigned On_delivery', 'Status_delivery'],\n",
       "      dtype='object')"
      ]
     },
     "execution_count": 59,
     "metadata": {},
     "output_type": "execute_result"
    }
   ],
   "source": [
    "data.columns"
   ]
  },
  {
   "cell_type": "code",
   "execution_count": 60,
   "metadata": {},
   "outputs": [
    {
     "data": {
      "text/plain": [
       "Dispatched_delivery     1\n",
       "Status_delivery         0\n",
       "Cash Collection         0\n",
       "Created On              0\n",
       "Merchant                0\n",
       "Payment                 0\n",
       "Sub total               0\n",
       "Delivery charge         0\n",
       "Vat                     0\n",
       "Total                   0\n",
       "Discount                0\n",
       "Wallet                  0\n",
       "Driver Name             0\n",
       "Assigned On_delivery    0\n",
       "Order date              0\n",
       "Scheduled for           0\n",
       "Worker                  0\n",
       "Dispatched_pickup       0\n",
       "Completed_pickup        0\n",
       "Assigned On_pickup      0\n",
       "Status_pickup           0\n",
       "Completed_delivery      0\n",
       "Order #                 0\n",
       "dtype: int64"
      ]
     },
     "execution_count": 60,
     "metadata": {},
     "output_type": "execute_result"
    }
   ],
   "source": [
    "data.isnull().sum().sort_values(ascending=False)\n"
   ]
  },
  {
   "cell_type": "code",
   "execution_count": 61,
   "metadata": {},
   "outputs": [
    {
     "data": {
      "text/plain": [
       "Index(['Dispatched_delivery'], dtype='object')"
      ]
     },
     "execution_count": 61,
     "metadata": {},
     "output_type": "execute_result"
    }
   ],
   "source": [
    "data.columns[data.isnull().any()]\n"
   ]
  },
  {
   "cell_type": "code",
   "execution_count": 62,
   "metadata": {},
   "outputs": [
    {
     "data": {
      "text/plain": [
       "[174]"
      ]
     },
     "execution_count": 62,
     "metadata": {},
     "output_type": "execute_result"
    }
   ],
   "source": [
    "data[data['Dispatched_delivery'].isnull()].index.tolist()\n"
   ]
  },
  {
   "cell_type": "code",
   "execution_count": 63,
   "metadata": {},
   "outputs": [
    {
     "data": {
      "text/html": [
       "<div>\n",
       "<style scoped>\n",
       "    .dataframe tbody tr th:only-of-type {\n",
       "        vertical-align: middle;\n",
       "    }\n",
       "\n",
       "    .dataframe tbody tr th {\n",
       "        vertical-align: top;\n",
       "    }\n",
       "\n",
       "    .dataframe thead th {\n",
       "        text-align: right;\n",
       "    }\n",
       "</style>\n",
       "<table border=\"1\" class=\"dataframe\">\n",
       "  <thead>\n",
       "    <tr style=\"text-align: right;\">\n",
       "      <th></th>\n",
       "      <th>Order #</th>\n",
       "      <th>Created On</th>\n",
       "      <th>Merchant</th>\n",
       "      <th>Payment</th>\n",
       "      <th>Sub total</th>\n",
       "      <th>Delivery charge</th>\n",
       "      <th>Vat</th>\n",
       "      <th>Total</th>\n",
       "      <th>Discount</th>\n",
       "      <th>Wallet</th>\n",
       "      <th>...</th>\n",
       "      <th>Scheduled for</th>\n",
       "      <th>Worker</th>\n",
       "      <th>Dispatched_pickup</th>\n",
       "      <th>Completed_pickup</th>\n",
       "      <th>Assigned On_pickup</th>\n",
       "      <th>Status_pickup</th>\n",
       "      <th>Dispatched_delivery</th>\n",
       "      <th>Completed_delivery</th>\n",
       "      <th>Assigned On_delivery</th>\n",
       "      <th>Status_delivery</th>\n",
       "    </tr>\n",
       "  </thead>\n",
       "  <tbody>\n",
       "    <tr>\n",
       "      <th>174</th>\n",
       "      <td>9920000243</td>\n",
       "      <td>30 Aug, 2019 08:35 PM</td>\n",
       "      <td>Merchant5</td>\n",
       "      <td>CASH</td>\n",
       "      <td>75.0</td>\n",
       "      <td>15</td>\n",
       "      <td>0</td>\n",
       "      <td>90.0</td>\n",
       "      <td>No discount</td>\n",
       "      <td>0</td>\n",
       "      <td>...</td>\n",
       "      <td>30 Aug, 2019 09:35 PM</td>\n",
       "      <td>Driver24</td>\n",
       "      <td>30 Aug, 2019 08:43 PM</td>\n",
       "      <td>30 Aug, 2019 08:43 PM</td>\n",
       "      <td>30 Aug, 2019 08:40 PM</td>\n",
       "      <td>Completed</td>\n",
       "      <td>NaN</td>\n",
       "      <td>30 Aug, 2019 11:02 PM</td>\n",
       "      <td>30 Aug, 2019 08:40 PM</td>\n",
       "      <td>Completed</td>\n",
       "    </tr>\n",
       "  </tbody>\n",
       "</table>\n",
       "<p>1 rows × 23 columns</p>\n",
       "</div>"
      ],
      "text/plain": [
       "        Order #             Created On   Merchant Payment  Sub total  \\\n",
       "174  9920000243  30 Aug, 2019 08:35 PM  Merchant5    CASH       75.0   \n",
       "\n",
       "     Delivery charge  Vat  Total     Discount  Wallet  ...  \\\n",
       "174               15    0   90.0  No discount       0  ...   \n",
       "\n",
       "             Scheduled for    Worker      Dispatched_pickup  \\\n",
       "174  30 Aug, 2019 09:35 PM  Driver24  30 Aug, 2019 08:43 PM   \n",
       "\n",
       "          Completed_pickup     Assigned On_pickup Status_pickup  \\\n",
       "174  30 Aug, 2019 08:43 PM  30 Aug, 2019 08:40 PM     Completed   \n",
       "\n",
       "    Dispatched_delivery     Completed_delivery   Assigned On_delivery  \\\n",
       "174                 NaN  30 Aug, 2019 11:02 PM  30 Aug, 2019 08:40 PM   \n",
       "\n",
       "    Status_delivery  \n",
       "174       Completed  \n",
       "\n",
       "[1 rows x 23 columns]"
      ]
     },
     "execution_count": 63,
     "metadata": {},
     "output_type": "execute_result"
    }
   ],
   "source": [
    "#data[174]\n",
    "data.iloc[[174]]"
   ]
  },
  {
   "cell_type": "code",
   "execution_count": 99,
   "metadata": {},
   "outputs": [
    {
     "name": "stderr",
     "output_type": "stream",
     "text": [
      "C:\\Users\\shrougalbahoth\\Anaconda3\\lib\\site-packages\\ipykernel_launcher.py:1: SettingWithCopyWarning: \n",
      "A value is trying to be set on a copy of a slice from a DataFrame\n",
      "\n",
      "See the caveats in the documentation: http://pandas.pydata.org/pandas-docs/stable/indexing.html#indexing-view-versus-copy\n",
      "  \"\"\"Entry point for launching an IPython kernel.\n"
     ]
    }
   ],
   "source": [
    "data.Dispatched_delivery[174]='30 Aug, 2019 11:02 PM'"
   ]
  },
  {
   "cell_type": "code",
   "execution_count": 100,
   "metadata": {},
   "outputs": [
    {
     "data": {
      "text/plain": [
       "Delivery_time           0\n",
       "Cash Collection         0\n",
       "Created On              0\n",
       "Merchant                0\n",
       "Payment                 0\n",
       "Sub total               0\n",
       "Delivery charge         0\n",
       "Vat                     0\n",
       "Total                   0\n",
       "Discount                0\n",
       "Wallet                  0\n",
       "Driver Name             0\n",
       "Status_delivery         0\n",
       "Order date              0\n",
       "Scheduled for           0\n",
       "Dispatched_pickup       0\n",
       "Completed_pickup        0\n",
       "Assigned On_pickup      0\n",
       "Status_pickup           0\n",
       "Dispatched_delivery     0\n",
       "Completed_delivery      0\n",
       "Assigned On_delivery    0\n",
       "Order #                 0\n",
       "dtype: int64"
      ]
     },
     "execution_count": 100,
     "metadata": {},
     "output_type": "execute_result"
    }
   ],
   "source": [
    "data.isnull().sum().sort_values(ascending=False)\n"
   ]
  },
  {
   "cell_type": "code",
   "execution_count": 64,
   "metadata": {},
   "outputs": [
    {
     "data": {
      "text/html": [
       "<div>\n",
       "<style scoped>\n",
       "    .dataframe tbody tr th:only-of-type {\n",
       "        vertical-align: middle;\n",
       "    }\n",
       "\n",
       "    .dataframe tbody tr th {\n",
       "        vertical-align: top;\n",
       "    }\n",
       "\n",
       "    .dataframe thead th {\n",
       "        text-align: right;\n",
       "    }\n",
       "</style>\n",
       "<table border=\"1\" class=\"dataframe\">\n",
       "  <thead>\n",
       "    <tr style=\"text-align: right;\">\n",
       "      <th></th>\n",
       "      <th>Order #</th>\n",
       "      <th>Created On</th>\n",
       "      <th>Merchant</th>\n",
       "      <th>Payment</th>\n",
       "      <th>Sub total</th>\n",
       "      <th>Delivery charge</th>\n",
       "      <th>Vat</th>\n",
       "      <th>Total</th>\n",
       "      <th>Discount</th>\n",
       "      <th>Wallet</th>\n",
       "      <th>...</th>\n",
       "      <th>Scheduled for</th>\n",
       "      <th>Worker</th>\n",
       "      <th>Dispatched_pickup</th>\n",
       "      <th>Completed_pickup</th>\n",
       "      <th>Assigned On_pickup</th>\n",
       "      <th>Status_pickup</th>\n",
       "      <th>Dispatched_delivery</th>\n",
       "      <th>Completed_delivery</th>\n",
       "      <th>Assigned On_delivery</th>\n",
       "      <th>Status_delivery</th>\n",
       "    </tr>\n",
       "  </thead>\n",
       "  <tbody>\n",
       "    <tr>\n",
       "      <th>0</th>\n",
       "      <td>9012000017</td>\n",
       "      <td>24 Jul, 2019 09:32 PM</td>\n",
       "      <td>Merchant1</td>\n",
       "      <td>CASH</td>\n",
       "      <td>118.00</td>\n",
       "      <td>5</td>\n",
       "      <td>0</td>\n",
       "      <td>123.00</td>\n",
       "      <td>No discount</td>\n",
       "      <td>0</td>\n",
       "      <td>...</td>\n",
       "      <td>24 Jul, 2019 10:16 PM</td>\n",
       "      <td>Driver3</td>\n",
       "      <td>24 Jul, 2019 10:04 PM</td>\n",
       "      <td>24 Jul, 2019 10:48 PM</td>\n",
       "      <td>24 Jul, 2019 10:02 PM</td>\n",
       "      <td>Completed</td>\n",
       "      <td>24 Jul, 2019 10:48 PM</td>\n",
       "      <td>24 Jul, 2019 11:43 PM</td>\n",
       "      <td>24 Jul, 2019 10:02 PM</td>\n",
       "      <td>Completed</td>\n",
       "    </tr>\n",
       "    <tr>\n",
       "      <th>1</th>\n",
       "      <td>9097000012</td>\n",
       "      <td>04 Jul, 2019 06:41 PM</td>\n",
       "      <td>Merchant2</td>\n",
       "      <td>CASH</td>\n",
       "      <td>140.00</td>\n",
       "      <td>15</td>\n",
       "      <td>0</td>\n",
       "      <td>155.00</td>\n",
       "      <td>10.0% OFF TOTAL</td>\n",
       "      <td>0</td>\n",
       "      <td>...</td>\n",
       "      <td>04 Jul, 2019 07:21 PM</td>\n",
       "      <td>Driver10</td>\n",
       "      <td>04 Jul, 2019 06:54 PM</td>\n",
       "      <td>04 Jul, 2019 07:22 PM</td>\n",
       "      <td>04 Jul, 2019 06:52 PM</td>\n",
       "      <td>Completed</td>\n",
       "      <td>04 Jul, 2019 07:25 PM</td>\n",
       "      <td>04 Jul, 2019 07:54 PM</td>\n",
       "      <td>04 Jul, 2019 06:52 PM</td>\n",
       "      <td>Completed</td>\n",
       "    </tr>\n",
       "    <tr>\n",
       "      <th>2</th>\n",
       "      <td>9313000019</td>\n",
       "      <td>04 Jul, 2019 06:02 PM</td>\n",
       "      <td>Merchant3</td>\n",
       "      <td>CASH</td>\n",
       "      <td>184.80</td>\n",
       "      <td>15</td>\n",
       "      <td>0</td>\n",
       "      <td>199.80</td>\n",
       "      <td>No discount</td>\n",
       "      <td>0</td>\n",
       "      <td>...</td>\n",
       "      <td>04 Jul, 2019 06:26 PM</td>\n",
       "      <td>Driver4</td>\n",
       "      <td>04 Jul, 2019 06:20 PM</td>\n",
       "      <td>04 Jul, 2019 06:40 PM</td>\n",
       "      <td>04 Jul, 2019 06:17 PM</td>\n",
       "      <td>Completed</td>\n",
       "      <td>04 Jul, 2019 06:41 PM</td>\n",
       "      <td>04 Jul, 2019 07:07 PM</td>\n",
       "      <td>04 Jul, 2019 06:17 PM</td>\n",
       "      <td>Completed</td>\n",
       "    </tr>\n",
       "    <tr>\n",
       "      <th>3</th>\n",
       "      <td>9313000020</td>\n",
       "      <td>30 Jul, 2019 11:46 AM</td>\n",
       "      <td>Merchant3</td>\n",
       "      <td>CASH</td>\n",
       "      <td>156.45</td>\n",
       "      <td>15</td>\n",
       "      <td>0</td>\n",
       "      <td>171.45</td>\n",
       "      <td>10.0% OFF TOTAL</td>\n",
       "      <td>0</td>\n",
       "      <td>...</td>\n",
       "      <td>30 Jul, 2019 04:35 PM</td>\n",
       "      <td>Driver3</td>\n",
       "      <td>30 Jul, 2019 04:29 PM</td>\n",
       "      <td>30 Jul, 2019 04:45 PM</td>\n",
       "      <td>30 Jul, 2019 04:27 PM</td>\n",
       "      <td>Completed</td>\n",
       "      <td>30 Jul, 2019 04:45 PM</td>\n",
       "      <td>30 Jul, 2019 05:24 PM</td>\n",
       "      <td>30 Jul, 2019 04:27 PM</td>\n",
       "      <td>Completed</td>\n",
       "    </tr>\n",
       "    <tr>\n",
       "      <th>4</th>\n",
       "      <td>9314000012</td>\n",
       "      <td>01 Jul, 2019 04:56 PM</td>\n",
       "      <td>Merchant4</td>\n",
       "      <td>CASH</td>\n",
       "      <td>160.00</td>\n",
       "      <td>15</td>\n",
       "      <td>0</td>\n",
       "      <td>175.00</td>\n",
       "      <td>10.0% OFF TOTAL</td>\n",
       "      <td>0</td>\n",
       "      <td>...</td>\n",
       "      <td>01 Jul, 2019 05:56 PM</td>\n",
       "      <td>Driver3</td>\n",
       "      <td>01 Jul, 2019 05:14 PM</td>\n",
       "      <td>01 Jul, 2019 05:29 PM</td>\n",
       "      <td>01 Jul, 2019 05:13 PM</td>\n",
       "      <td>Completed</td>\n",
       "      <td>01 Jul, 2019 05:48 PM</td>\n",
       "      <td>01 Jul, 2019 05:50 PM</td>\n",
       "      <td>01 Jul, 2019 05:13 PM</td>\n",
       "      <td>Completed</td>\n",
       "    </tr>\n",
       "  </tbody>\n",
       "</table>\n",
       "<p>5 rows × 23 columns</p>\n",
       "</div>"
      ],
      "text/plain": [
       "      Order #             Created On   Merchant Payment  Sub total  \\\n",
       "0  9012000017  24 Jul, 2019 09:32 PM  Merchant1    CASH     118.00   \n",
       "1  9097000012  04 Jul, 2019 06:41 PM  Merchant2    CASH     140.00   \n",
       "2  9313000019  04 Jul, 2019 06:02 PM  Merchant3    CASH     184.80   \n",
       "3  9313000020  30 Jul, 2019 11:46 AM  Merchant3    CASH     156.45   \n",
       "4  9314000012  01 Jul, 2019 04:56 PM  Merchant4    CASH     160.00   \n",
       "\n",
       "   Delivery charge  Vat   Total         Discount  Wallet  ...  \\\n",
       "0                5    0  123.00      No discount       0  ...   \n",
       "1               15    0  155.00  10.0% OFF TOTAL       0  ...   \n",
       "2               15    0  199.80      No discount       0  ...   \n",
       "3               15    0  171.45  10.0% OFF TOTAL       0  ...   \n",
       "4               15    0  175.00  10.0% OFF TOTAL       0  ...   \n",
       "\n",
       "           Scheduled for    Worker      Dispatched_pickup  \\\n",
       "0  24 Jul, 2019 10:16 PM   Driver3  24 Jul, 2019 10:04 PM   \n",
       "1  04 Jul, 2019 07:21 PM  Driver10  04 Jul, 2019 06:54 PM   \n",
       "2  04 Jul, 2019 06:26 PM   Driver4  04 Jul, 2019 06:20 PM   \n",
       "3  30 Jul, 2019 04:35 PM   Driver3  30 Jul, 2019 04:29 PM   \n",
       "4  01 Jul, 2019 05:56 PM   Driver3  01 Jul, 2019 05:14 PM   \n",
       "\n",
       "        Completed_pickup     Assigned On_pickup Status_pickup  \\\n",
       "0  24 Jul, 2019 10:48 PM  24 Jul, 2019 10:02 PM     Completed   \n",
       "1  04 Jul, 2019 07:22 PM  04 Jul, 2019 06:52 PM     Completed   \n",
       "2  04 Jul, 2019 06:40 PM  04 Jul, 2019 06:17 PM     Completed   \n",
       "3  30 Jul, 2019 04:45 PM  30 Jul, 2019 04:27 PM     Completed   \n",
       "4  01 Jul, 2019 05:29 PM  01 Jul, 2019 05:13 PM     Completed   \n",
       "\n",
       "     Dispatched_delivery     Completed_delivery   Assigned On_delivery  \\\n",
       "0  24 Jul, 2019 10:48 PM  24 Jul, 2019 11:43 PM  24 Jul, 2019 10:02 PM   \n",
       "1  04 Jul, 2019 07:25 PM  04 Jul, 2019 07:54 PM  04 Jul, 2019 06:52 PM   \n",
       "2  04 Jul, 2019 06:41 PM  04 Jul, 2019 07:07 PM  04 Jul, 2019 06:17 PM   \n",
       "3  30 Jul, 2019 04:45 PM  30 Jul, 2019 05:24 PM  30 Jul, 2019 04:27 PM   \n",
       "4  01 Jul, 2019 05:48 PM  01 Jul, 2019 05:50 PM  01 Jul, 2019 05:13 PM   \n",
       "\n",
       "  Status_delivery  \n",
       "0       Completed  \n",
       "1       Completed  \n",
       "2       Completed  \n",
       "3       Completed  \n",
       "4       Completed  \n",
       "\n",
       "[5 rows x 23 columns]"
      ]
     },
     "execution_count": 64,
     "metadata": {},
     "output_type": "execute_result"
    }
   ],
   "source": [
    "data.head()"
   ]
  },
  {
   "cell_type": "code",
   "execution_count": 65,
   "metadata": {},
   "outputs": [],
   "source": [
    "#Completed_delivery-Assigned On_pickup"
   ]
  },
  {
   "cell_type": "code",
   "execution_count": 66,
   "metadata": {},
   "outputs": [
    {
     "data": {
      "text/plain": [
       "Index(['Order #', 'Created On', 'Merchant', 'Payment', 'Sub total',\n",
       "       'Delivery charge', 'Vat', 'Total', 'Discount', 'Wallet',\n",
       "       'Cash Collection', 'Driver Name', 'Order date', 'Scheduled for',\n",
       "       'Worker', 'Dispatched_pickup', 'Completed_pickup', 'Assigned On_pickup',\n",
       "       'Status_pickup', 'Dispatched_delivery', 'Completed_delivery',\n",
       "       'Assigned On_delivery', 'Status_delivery'],\n",
       "      dtype='object')"
      ]
     },
     "execution_count": 66,
     "metadata": {},
     "output_type": "execute_result"
    }
   ],
   "source": [
    "data.columns"
   ]
  },
  {
   "cell_type": "code",
   "execution_count": 67,
   "metadata": {},
   "outputs": [],
   "source": [
    "#Convert the column type from string to datetime format\n",
    "\n",
    "\n",
    "data['Created On']= pd.to_datetime(data['Created On'])\n",
    "data['Order date']= pd.to_datetime(data['Order date'])\n",
    "data['Scheduled for']= pd.to_datetime(data['Scheduled for'])\n",
    "data['Dispatched_pickup']= pd.to_datetime(data['Dispatched_pickup'])\n",
    "data['Completed_pickup']= pd.to_datetime(data['Completed_pickup'])\n",
    "data['Assigned On_pickup']= pd.to_datetime(data['Assigned On_pickup'])\n",
    "data['Dispatched_delivery']= pd.to_datetime(data['Dispatched_delivery'])\n",
    "data['Completed_delivery']= pd.to_datetime(data['Completed_delivery'])\n",
    "data['Assigned On_delivery']= pd.to_datetime(data['Assigned On_delivery'])"
   ]
  },
  {
   "cell_type": "code",
   "execution_count": 68,
   "metadata": {},
   "outputs": [
    {
     "data": {
      "text/html": [
       "<div>\n",
       "<style scoped>\n",
       "    .dataframe tbody tr th:only-of-type {\n",
       "        vertical-align: middle;\n",
       "    }\n",
       "\n",
       "    .dataframe tbody tr th {\n",
       "        vertical-align: top;\n",
       "    }\n",
       "\n",
       "    .dataframe thead th {\n",
       "        text-align: right;\n",
       "    }\n",
       "</style>\n",
       "<table border=\"1\" class=\"dataframe\">\n",
       "  <thead>\n",
       "    <tr style=\"text-align: right;\">\n",
       "      <th></th>\n",
       "      <th>Order #</th>\n",
       "      <th>Created On</th>\n",
       "      <th>Merchant</th>\n",
       "      <th>Payment</th>\n",
       "      <th>Sub total</th>\n",
       "      <th>Delivery charge</th>\n",
       "      <th>Vat</th>\n",
       "      <th>Total</th>\n",
       "      <th>Discount</th>\n",
       "      <th>Wallet</th>\n",
       "      <th>Cash Collection</th>\n",
       "      <th>Driver Name</th>\n",
       "      <th>Order date</th>\n",
       "      <th>Scheduled for</th>\n",
       "      <th>Worker</th>\n",
       "      <th>Dispatched_pickup</th>\n",
       "      <th>Completed_pickup</th>\n",
       "      <th>Assigned On_pickup</th>\n",
       "      <th>Status_pickup</th>\n",
       "      <th>Dispatched_delivery</th>\n",
       "      <th>Completed_delivery</th>\n",
       "      <th>Assigned On_delivery</th>\n",
       "      <th>Status_delivery</th>\n",
       "    </tr>\n",
       "  </thead>\n",
       "  <tbody>\n",
       "    <tr>\n",
       "      <th>0</th>\n",
       "      <td>9012000017</td>\n",
       "      <td>2019-07-24 21:32:00</td>\n",
       "      <td>Merchant1</td>\n",
       "      <td>CASH</td>\n",
       "      <td>118.00</td>\n",
       "      <td>5</td>\n",
       "      <td>0</td>\n",
       "      <td>123.00</td>\n",
       "      <td>No discount</td>\n",
       "      <td>0</td>\n",
       "      <td>123.0</td>\n",
       "      <td>Driver1</td>\n",
       "      <td>2019-07-24 22:01:00</td>\n",
       "      <td>2019-07-24 22:16:00</td>\n",
       "      <td>Driver3</td>\n",
       "      <td>2019-07-24 22:04:00</td>\n",
       "      <td>2019-07-24 22:48:00</td>\n",
       "      <td>2019-07-24 22:02:00</td>\n",
       "      <td>Completed</td>\n",
       "      <td>2019-07-24 22:48:00</td>\n",
       "      <td>2019-07-24 23:43:00</td>\n",
       "      <td>2019-07-24 22:02:00</td>\n",
       "      <td>Completed</td>\n",
       "    </tr>\n",
       "    <tr>\n",
       "      <th>1</th>\n",
       "      <td>9097000012</td>\n",
       "      <td>2019-07-04 18:41:00</td>\n",
       "      <td>Merchant2</td>\n",
       "      <td>CASH</td>\n",
       "      <td>140.00</td>\n",
       "      <td>15</td>\n",
       "      <td>0</td>\n",
       "      <td>155.00</td>\n",
       "      <td>10.0% OFF TOTAL</td>\n",
       "      <td>0</td>\n",
       "      <td>139.5</td>\n",
       "      <td>Driver2</td>\n",
       "      <td>2019-07-04 18:51:00</td>\n",
       "      <td>2019-07-04 19:21:00</td>\n",
       "      <td>Driver10</td>\n",
       "      <td>2019-07-04 18:54:00</td>\n",
       "      <td>2019-07-04 19:22:00</td>\n",
       "      <td>2019-07-04 18:52:00</td>\n",
       "      <td>Completed</td>\n",
       "      <td>2019-07-04 19:25:00</td>\n",
       "      <td>2019-07-04 19:54:00</td>\n",
       "      <td>2019-07-04 18:52:00</td>\n",
       "      <td>Completed</td>\n",
       "    </tr>\n",
       "    <tr>\n",
       "      <th>2</th>\n",
       "      <td>9313000019</td>\n",
       "      <td>2019-07-04 18:02:00</td>\n",
       "      <td>Merchant3</td>\n",
       "      <td>CASH</td>\n",
       "      <td>184.80</td>\n",
       "      <td>15</td>\n",
       "      <td>0</td>\n",
       "      <td>199.80</td>\n",
       "      <td>No discount</td>\n",
       "      <td>0</td>\n",
       "      <td>199.8</td>\n",
       "      <td>Driver3</td>\n",
       "      <td>2019-07-04 18:11:00</td>\n",
       "      <td>2019-07-04 18:26:00</td>\n",
       "      <td>Driver4</td>\n",
       "      <td>2019-07-04 18:20:00</td>\n",
       "      <td>2019-07-04 18:40:00</td>\n",
       "      <td>2019-07-04 18:17:00</td>\n",
       "      <td>Completed</td>\n",
       "      <td>2019-07-04 18:41:00</td>\n",
       "      <td>2019-07-04 19:07:00</td>\n",
       "      <td>2019-07-04 18:17:00</td>\n",
       "      <td>Completed</td>\n",
       "    </tr>\n",
       "    <tr>\n",
       "      <th>3</th>\n",
       "      <td>9313000020</td>\n",
       "      <td>2019-07-30 11:46:00</td>\n",
       "      <td>Merchant3</td>\n",
       "      <td>CASH</td>\n",
       "      <td>156.45</td>\n",
       "      <td>15</td>\n",
       "      <td>0</td>\n",
       "      <td>171.45</td>\n",
       "      <td>10.0% OFF TOTAL</td>\n",
       "      <td>0</td>\n",
       "      <td>154.3</td>\n",
       "      <td>Driver1</td>\n",
       "      <td>2019-07-30 16:20:00</td>\n",
       "      <td>2019-07-30 16:35:00</td>\n",
       "      <td>Driver3</td>\n",
       "      <td>2019-07-30 16:29:00</td>\n",
       "      <td>2019-07-30 16:45:00</td>\n",
       "      <td>2019-07-30 16:27:00</td>\n",
       "      <td>Completed</td>\n",
       "      <td>2019-07-30 16:45:00</td>\n",
       "      <td>2019-07-30 17:24:00</td>\n",
       "      <td>2019-07-30 16:27:00</td>\n",
       "      <td>Completed</td>\n",
       "    </tr>\n",
       "    <tr>\n",
       "      <th>4</th>\n",
       "      <td>9314000012</td>\n",
       "      <td>2019-07-01 16:56:00</td>\n",
       "      <td>Merchant4</td>\n",
       "      <td>CASH</td>\n",
       "      <td>160.00</td>\n",
       "      <td>15</td>\n",
       "      <td>0</td>\n",
       "      <td>175.00</td>\n",
       "      <td>10.0% OFF TOTAL</td>\n",
       "      <td>0</td>\n",
       "      <td>157.5</td>\n",
       "      <td>Driver1</td>\n",
       "      <td>2019-07-01 17:01:00</td>\n",
       "      <td>2019-07-01 17:56:00</td>\n",
       "      <td>Driver3</td>\n",
       "      <td>2019-07-01 17:14:00</td>\n",
       "      <td>2019-07-01 17:29:00</td>\n",
       "      <td>2019-07-01 17:13:00</td>\n",
       "      <td>Completed</td>\n",
       "      <td>2019-07-01 17:48:00</td>\n",
       "      <td>2019-07-01 17:50:00</td>\n",
       "      <td>2019-07-01 17:13:00</td>\n",
       "      <td>Completed</td>\n",
       "    </tr>\n",
       "  </tbody>\n",
       "</table>\n",
       "</div>"
      ],
      "text/plain": [
       "      Order #          Created On   Merchant Payment  Sub total  \\\n",
       "0  9012000017 2019-07-24 21:32:00  Merchant1    CASH     118.00   \n",
       "1  9097000012 2019-07-04 18:41:00  Merchant2    CASH     140.00   \n",
       "2  9313000019 2019-07-04 18:02:00  Merchant3    CASH     184.80   \n",
       "3  9313000020 2019-07-30 11:46:00  Merchant3    CASH     156.45   \n",
       "4  9314000012 2019-07-01 16:56:00  Merchant4    CASH     160.00   \n",
       "\n",
       "   Delivery charge  Vat   Total         Discount  Wallet  Cash Collection  \\\n",
       "0                5    0  123.00      No discount       0            123.0   \n",
       "1               15    0  155.00  10.0% OFF TOTAL       0            139.5   \n",
       "2               15    0  199.80      No discount       0            199.8   \n",
       "3               15    0  171.45  10.0% OFF TOTAL       0            154.3   \n",
       "4               15    0  175.00  10.0% OFF TOTAL       0            157.5   \n",
       "\n",
       "  Driver Name          Order date       Scheduled for    Worker  \\\n",
       "0     Driver1 2019-07-24 22:01:00 2019-07-24 22:16:00   Driver3   \n",
       "1     Driver2 2019-07-04 18:51:00 2019-07-04 19:21:00  Driver10   \n",
       "2     Driver3 2019-07-04 18:11:00 2019-07-04 18:26:00   Driver4   \n",
       "3     Driver1 2019-07-30 16:20:00 2019-07-30 16:35:00   Driver3   \n",
       "4     Driver1 2019-07-01 17:01:00 2019-07-01 17:56:00   Driver3   \n",
       "\n",
       "    Dispatched_pickup    Completed_pickup  Assigned On_pickup Status_pickup  \\\n",
       "0 2019-07-24 22:04:00 2019-07-24 22:48:00 2019-07-24 22:02:00     Completed   \n",
       "1 2019-07-04 18:54:00 2019-07-04 19:22:00 2019-07-04 18:52:00     Completed   \n",
       "2 2019-07-04 18:20:00 2019-07-04 18:40:00 2019-07-04 18:17:00     Completed   \n",
       "3 2019-07-30 16:29:00 2019-07-30 16:45:00 2019-07-30 16:27:00     Completed   \n",
       "4 2019-07-01 17:14:00 2019-07-01 17:29:00 2019-07-01 17:13:00     Completed   \n",
       "\n",
       "  Dispatched_delivery  Completed_delivery Assigned On_delivery Status_delivery  \n",
       "0 2019-07-24 22:48:00 2019-07-24 23:43:00  2019-07-24 22:02:00       Completed  \n",
       "1 2019-07-04 19:25:00 2019-07-04 19:54:00  2019-07-04 18:52:00       Completed  \n",
       "2 2019-07-04 18:41:00 2019-07-04 19:07:00  2019-07-04 18:17:00       Completed  \n",
       "3 2019-07-30 16:45:00 2019-07-30 17:24:00  2019-07-30 16:27:00       Completed  \n",
       "4 2019-07-01 17:48:00 2019-07-01 17:50:00  2019-07-01 17:13:00       Completed  "
      ]
     },
     "execution_count": 68,
     "metadata": {},
     "output_type": "execute_result"
    }
   ],
   "source": [
    "#display all columns\n",
    "pd.set_option('display.max_columns', None)\n",
    "\n",
    "# print the first 5 rows\n",
    "data.head()"
   ]
  },
  {
   "cell_type": "code",
   "execution_count": 69,
   "metadata": {},
   "outputs": [],
   "source": [
    "#the amount of time that it takes for goods that have been bought to arrive\n",
    "\n",
    "data['Delivery_time']=data['Completed_delivery']-data['Assigned On_pickup']"
   ]
  },
  {
   "cell_type": "code",
   "execution_count": 70,
   "metadata": {},
   "outputs": [
    {
     "data": {
      "text/plain": [
       "Index(['Order #', 'Created On', 'Merchant', 'Payment', 'Sub total',\n",
       "       'Delivery charge', 'Vat', 'Total', 'Discount', 'Wallet',\n",
       "       'Cash Collection', 'Driver Name', 'Order date', 'Scheduled for',\n",
       "       'Worker', 'Dispatched_pickup', 'Completed_pickup', 'Assigned On_pickup',\n",
       "       'Status_pickup', 'Dispatched_delivery', 'Completed_delivery',\n",
       "       'Assigned On_delivery', 'Status_delivery', 'Delivery_time'],\n",
       "      dtype='object')"
      ]
     },
     "execution_count": 70,
     "metadata": {},
     "output_type": "execute_result"
    }
   ],
   "source": [
    "data.columns"
   ]
  },
  {
   "cell_type": "code",
   "execution_count": 71,
   "metadata": {},
   "outputs": [
    {
     "data": {
      "text/html": [
       "<div>\n",
       "<style scoped>\n",
       "    .dataframe tbody tr th:only-of-type {\n",
       "        vertical-align: middle;\n",
       "    }\n",
       "\n",
       "    .dataframe tbody tr th {\n",
       "        vertical-align: top;\n",
       "    }\n",
       "\n",
       "    .dataframe thead th {\n",
       "        text-align: right;\n",
       "    }\n",
       "</style>\n",
       "<table border=\"1\" class=\"dataframe\">\n",
       "  <thead>\n",
       "    <tr style=\"text-align: right;\">\n",
       "      <th></th>\n",
       "      <th>Order #</th>\n",
       "      <th>Sub total</th>\n",
       "      <th>Delivery charge</th>\n",
       "      <th>Vat</th>\n",
       "      <th>Total</th>\n",
       "      <th>Wallet</th>\n",
       "      <th>Cash Collection</th>\n",
       "      <th>Delivery_time</th>\n",
       "    </tr>\n",
       "  </thead>\n",
       "  <tbody>\n",
       "    <tr>\n",
       "      <th>count</th>\n",
       "      <td>1.870000e+02</td>\n",
       "      <td>187.000000</td>\n",
       "      <td>187.000000</td>\n",
       "      <td>187.0</td>\n",
       "      <td>187.000000</td>\n",
       "      <td>187.000000</td>\n",
       "      <td>187.000000</td>\n",
       "      <td>187</td>\n",
       "    </tr>\n",
       "    <tr>\n",
       "      <th>mean</th>\n",
       "      <td>9.918209e+09</td>\n",
       "      <td>91.106203</td>\n",
       "      <td>8.743316</td>\n",
       "      <td>0.0</td>\n",
       "      <td>99.849519</td>\n",
       "      <td>0.240642</td>\n",
       "      <td>95.129465</td>\n",
       "      <td>0 days 00:47:18.288770</td>\n",
       "    </tr>\n",
       "    <tr>\n",
       "      <th>std</th>\n",
       "      <td>6.055641e+08</td>\n",
       "      <td>63.799747</td>\n",
       "      <td>6.611199</td>\n",
       "      <td>0.0</td>\n",
       "      <td>65.431271</td>\n",
       "      <td>3.290726</td>\n",
       "      <td>61.593421</td>\n",
       "      <td>0 days 01:07:22.574137</td>\n",
       "    </tr>\n",
       "    <tr>\n",
       "      <th>min</th>\n",
       "      <td>8.532000e+09</td>\n",
       "      <td>1.500000</td>\n",
       "      <td>0.000000</td>\n",
       "      <td>0.0</td>\n",
       "      <td>1.500000</td>\n",
       "      <td>0.000000</td>\n",
       "      <td>0.000000</td>\n",
       "      <td>0 days 00:02:00</td>\n",
       "    </tr>\n",
       "    <tr>\n",
       "      <th>25%</th>\n",
       "      <td>9.920000e+09</td>\n",
       "      <td>50.000000</td>\n",
       "      <td>0.000000</td>\n",
       "      <td>0.0</td>\n",
       "      <td>61.000000</td>\n",
       "      <td>0.000000</td>\n",
       "      <td>54.900000</td>\n",
       "      <td>0 days 00:30:00</td>\n",
       "    </tr>\n",
       "    <tr>\n",
       "      <th>50%</th>\n",
       "      <td>9.920000e+09</td>\n",
       "      <td>75.000000</td>\n",
       "      <td>15.000000</td>\n",
       "      <td>0.0</td>\n",
       "      <td>90.000000</td>\n",
       "      <td>0.000000</td>\n",
       "      <td>81.000000</td>\n",
       "      <td>0 days 00:40:00</td>\n",
       "    </tr>\n",
       "    <tr>\n",
       "      <th>75%</th>\n",
       "      <td>9.920000e+09</td>\n",
       "      <td>110.000000</td>\n",
       "      <td>15.000000</td>\n",
       "      <td>0.0</td>\n",
       "      <td>120.000000</td>\n",
       "      <td>0.000000</td>\n",
       "      <td>115.000000</td>\n",
       "      <td>0 days 00:52:30</td>\n",
       "    </tr>\n",
       "    <tr>\n",
       "      <th>max</th>\n",
       "      <td>1.249700e+10</td>\n",
       "      <td>525.000000</td>\n",
       "      <td>15.000000</td>\n",
       "      <td>0.0</td>\n",
       "      <td>540.000000</td>\n",
       "      <td>45.000000</td>\n",
       "      <td>486.000000</td>\n",
       "      <td>0 days 15:08:00</td>\n",
       "    </tr>\n",
       "  </tbody>\n",
       "</table>\n",
       "</div>"
      ],
      "text/plain": [
       "            Order #   Sub total  Delivery charge    Vat       Total  \\\n",
       "count  1.870000e+02  187.000000       187.000000  187.0  187.000000   \n",
       "mean   9.918209e+09   91.106203         8.743316    0.0   99.849519   \n",
       "std    6.055641e+08   63.799747         6.611199    0.0   65.431271   \n",
       "min    8.532000e+09    1.500000         0.000000    0.0    1.500000   \n",
       "25%    9.920000e+09   50.000000         0.000000    0.0   61.000000   \n",
       "50%    9.920000e+09   75.000000        15.000000    0.0   90.000000   \n",
       "75%    9.920000e+09  110.000000        15.000000    0.0  120.000000   \n",
       "max    1.249700e+10  525.000000        15.000000    0.0  540.000000   \n",
       "\n",
       "           Wallet  Cash Collection           Delivery_time  \n",
       "count  187.000000       187.000000                     187  \n",
       "mean     0.240642        95.129465  0 days 00:47:18.288770  \n",
       "std      3.290726        61.593421  0 days 01:07:22.574137  \n",
       "min      0.000000         0.000000         0 days 00:02:00  \n",
       "25%      0.000000        54.900000         0 days 00:30:00  \n",
       "50%      0.000000        81.000000         0 days 00:40:00  \n",
       "75%      0.000000       115.000000         0 days 00:52:30  \n",
       "max     45.000000       486.000000         0 days 15:08:00  "
      ]
     },
     "execution_count": 71,
     "metadata": {},
     "output_type": "execute_result"
    }
   ],
   "source": [
    "data.describe()\n"
   ]
  },
  {
   "cell_type": "code",
   "execution_count": 72,
   "metadata": {},
   "outputs": [
    {
     "data": {
      "text/html": [
       "<div>\n",
       "<style scoped>\n",
       "    .dataframe tbody tr th:only-of-type {\n",
       "        vertical-align: middle;\n",
       "    }\n",
       "\n",
       "    .dataframe tbody tr th {\n",
       "        vertical-align: top;\n",
       "    }\n",
       "\n",
       "    .dataframe thead th {\n",
       "        text-align: right;\n",
       "    }\n",
       "</style>\n",
       "<table border=\"1\" class=\"dataframe\">\n",
       "  <thead>\n",
       "    <tr style=\"text-align: right;\">\n",
       "      <th></th>\n",
       "      <th>Merchant</th>\n",
       "      <th>Payment</th>\n",
       "      <th>Discount</th>\n",
       "      <th>Driver Name</th>\n",
       "      <th>Worker</th>\n",
       "      <th>Status_pickup</th>\n",
       "      <th>Status_delivery</th>\n",
       "    </tr>\n",
       "  </thead>\n",
       "  <tbody>\n",
       "    <tr>\n",
       "      <th>count</th>\n",
       "      <td>187</td>\n",
       "      <td>187</td>\n",
       "      <td>187</td>\n",
       "      <td>187</td>\n",
       "      <td>187</td>\n",
       "      <td>187</td>\n",
       "      <td>187</td>\n",
       "    </tr>\n",
       "    <tr>\n",
       "      <th>unique</th>\n",
       "      <td>9</td>\n",
       "      <td>1</td>\n",
       "      <td>2</td>\n",
       "      <td>24</td>\n",
       "      <td>24</td>\n",
       "      <td>1</td>\n",
       "      <td>1</td>\n",
       "    </tr>\n",
       "    <tr>\n",
       "      <th>top</th>\n",
       "      <td>Merchant4</td>\n",
       "      <td>CASH</td>\n",
       "      <td>No discount</td>\n",
       "      <td>Driver3</td>\n",
       "      <td>Driver4</td>\n",
       "      <td>Completed</td>\n",
       "      <td>Completed</td>\n",
       "    </tr>\n",
       "    <tr>\n",
       "      <th>freq</th>\n",
       "      <td>58</td>\n",
       "      <td>187</td>\n",
       "      <td>120</td>\n",
       "      <td>29</td>\n",
       "      <td>29</td>\n",
       "      <td>187</td>\n",
       "      <td>187</td>\n",
       "    </tr>\n",
       "  </tbody>\n",
       "</table>\n",
       "</div>"
      ],
      "text/plain": [
       "         Merchant Payment     Discount Driver Name   Worker Status_pickup  \\\n",
       "count         187     187          187         187      187           187   \n",
       "unique          9       1            2          24       24             1   \n",
       "top     Merchant4    CASH  No discount     Driver3  Driver4     Completed   \n",
       "freq           58     187          120          29       29           187   \n",
       "\n",
       "       Status_delivery  \n",
       "count              187  \n",
       "unique               1  \n",
       "top          Completed  \n",
       "freq               187  "
      ]
     },
     "execution_count": 72,
     "metadata": {},
     "output_type": "execute_result"
    }
   ],
   "source": [
    "# categorical columns:\n",
    "data.describe(include=['O'])"
   ]
  },
  {
   "cell_type": "code",
   "execution_count": 73,
   "metadata": {},
   "outputs": [
    {
     "data": {
      "text/plain": [
       "(3, 24)"
      ]
     },
     "execution_count": 73,
     "metadata": {},
     "output_type": "execute_result"
    }
   ],
   "source": [
    "compare = data[data['Driver Name'] == data['Worker']]\n",
    "compare.shape"
   ]
  },
  {
   "cell_type": "code",
   "execution_count": 74,
   "metadata": {},
   "outputs": [
    {
     "data": {
      "text/plain": [
       "array(['Driver1', 'Driver2', 'Driver3', 'Driver4', 'Driver5', 'Driver6',\n",
       "       'Driver7', 'Driver8', 'Driver9', 'Driver10', 'Driver11',\n",
       "       'Driver12', 'Driver13', 'Driver14', 'Driver15', 'Driver16',\n",
       "       'Driver17', 'Driver18', 'Driver19', 'Driver20', 'Driver0',\n",
       "       'Driver21', 'Driver22', 'Driver23'], dtype=object)"
      ]
     },
     "execution_count": 74,
     "metadata": {},
     "output_type": "execute_result"
    }
   ],
   "source": [
    "data['Driver Name'].unique()"
   ]
  },
  {
   "cell_type": "code",
   "execution_count": 75,
   "metadata": {},
   "outputs": [
    {
     "data": {
      "text/plain": [
       "array(['Driver3', 'Driver10', 'Driver4', 'Driver6', 'Driver7', 'Driver9',\n",
       "       'Driver5', 'Driver2', 'Driver11', 'Driver18', 'Driver1', 'Driver8',\n",
       "       'Driver12', 'Driver13', 'Driver14', 'Driver15', 'Driver16',\n",
       "       'Driver17', 'Driver19', 'Driver23', 'Driver20', 'Driver21',\n",
       "       'Driver22', 'Driver24'], dtype=object)"
      ]
     },
     "execution_count": 75,
     "metadata": {},
     "output_type": "execute_result"
    }
   ],
   "source": [
    "data['Worker'].unique()"
   ]
  },
  {
   "cell_type": "code",
   "execution_count": 76,
   "metadata": {},
   "outputs": [],
   "source": [
    "#the two columns supposed to have the same values\n",
    "#The values are inconsistent\n",
    "#Driver Name column has values that look closer to reality\n",
    "\n",
    "data.drop(['Worker'], axis = 1,inplace=True) \n",
    "\n"
   ]
  },
  {
   "cell_type": "code",
   "execution_count": 77,
   "metadata": {},
   "outputs": [
    {
     "data": {
      "text/plain": [
       "0       5.0\n",
       "1      15.0\n",
       "2      15.0\n",
       "3      15.0\n",
       "4      15.0\n",
       "5      15.0\n",
       "6      15.0\n",
       "7      15.0\n",
       "8      15.0\n",
       "9      15.0\n",
       "10     15.0\n",
       "11     15.0\n",
       "12     15.0\n",
       "13     15.0\n",
       "14     15.0\n",
       "15     15.0\n",
       "16     15.0\n",
       "17     15.0\n",
       "18     15.0\n",
       "19     15.0\n",
       "20      5.0\n",
       "21      5.0\n",
       "22      5.0\n",
       "23      5.0\n",
       "24      5.0\n",
       "25      5.0\n",
       "26      5.0\n",
       "27      5.0\n",
       "28      5.0\n",
       "29     15.0\n",
       "       ... \n",
       "157     0.0\n",
       "158     0.0\n",
       "159     0.0\n",
       "160     0.0\n",
       "161     0.0\n",
       "162     0.0\n",
       "163     0.0\n",
       "164     0.0\n",
       "165     0.0\n",
       "166     0.0\n",
       "167     0.0\n",
       "168    15.0\n",
       "169    15.0\n",
       "170    15.0\n",
       "171    15.0\n",
       "172    15.0\n",
       "173    15.0\n",
       "174    15.0\n",
       "175     0.0\n",
       "176     0.0\n",
       "177     0.0\n",
       "178    15.0\n",
       "179     0.0\n",
       "180     0.0\n",
       "181     0.0\n",
       "182     0.0\n",
       "183     0.0\n",
       "184     0.0\n",
       "185    15.0\n",
       "186    15.0\n",
       "Length: 187, dtype: float64"
      ]
     },
     "execution_count": 77,
     "metadata": {},
     "output_type": "execute_result"
    }
   ],
   "source": [
    "\n",
    "\n",
    "Dcharge=data['Total']-data['Sub total']\n",
    "Dcharge"
   ]
  },
  {
   "cell_type": "code",
   "execution_count": 78,
   "metadata": {},
   "outputs": [
    {
     "data": {
      "text/plain": [
       "(0, 23)"
      ]
     },
     "execution_count": 78,
     "metadata": {},
     "output_type": "execute_result"
    }
   ],
   "source": [
    "#check if Delivery charge values are correct\n",
    "compare = data[data['Delivery charge']!=Dcharge]\n",
    "compare.shape\n"
   ]
  },
  {
   "cell_type": "code",
   "execution_count": 79,
   "metadata": {},
   "outputs": [
    {
     "data": {
      "text/html": [
       "<div>\n",
       "<style scoped>\n",
       "    .dataframe tbody tr th:only-of-type {\n",
       "        vertical-align: middle;\n",
       "    }\n",
       "\n",
       "    .dataframe tbody tr th {\n",
       "        vertical-align: top;\n",
       "    }\n",
       "\n",
       "    .dataframe thead th {\n",
       "        text-align: right;\n",
       "    }\n",
       "</style>\n",
       "<table border=\"1\" class=\"dataframe\">\n",
       "  <thead>\n",
       "    <tr style=\"text-align: right;\">\n",
       "      <th></th>\n",
       "      <th>Merchant</th>\n",
       "      <th>Payment</th>\n",
       "      <th>Discount</th>\n",
       "      <th>Driver Name</th>\n",
       "      <th>Status_pickup</th>\n",
       "      <th>Status_delivery</th>\n",
       "    </tr>\n",
       "  </thead>\n",
       "  <tbody>\n",
       "    <tr>\n",
       "      <th>count</th>\n",
       "      <td>187</td>\n",
       "      <td>187</td>\n",
       "      <td>187</td>\n",
       "      <td>187</td>\n",
       "      <td>187</td>\n",
       "      <td>187</td>\n",
       "    </tr>\n",
       "    <tr>\n",
       "      <th>unique</th>\n",
       "      <td>9</td>\n",
       "      <td>1</td>\n",
       "      <td>2</td>\n",
       "      <td>24</td>\n",
       "      <td>1</td>\n",
       "      <td>1</td>\n",
       "    </tr>\n",
       "    <tr>\n",
       "      <th>top</th>\n",
       "      <td>Merchant4</td>\n",
       "      <td>CASH</td>\n",
       "      <td>No discount</td>\n",
       "      <td>Driver3</td>\n",
       "      <td>Completed</td>\n",
       "      <td>Completed</td>\n",
       "    </tr>\n",
       "    <tr>\n",
       "      <th>freq</th>\n",
       "      <td>58</td>\n",
       "      <td>187</td>\n",
       "      <td>120</td>\n",
       "      <td>29</td>\n",
       "      <td>187</td>\n",
       "      <td>187</td>\n",
       "    </tr>\n",
       "  </tbody>\n",
       "</table>\n",
       "</div>"
      ],
      "text/plain": [
       "         Merchant Payment     Discount Driver Name Status_pickup  \\\n",
       "count         187     187          187         187           187   \n",
       "unique          9       1            2          24             1   \n",
       "top     Merchant4    CASH  No discount     Driver3     Completed   \n",
       "freq           58     187          120          29           187   \n",
       "\n",
       "       Status_delivery  \n",
       "count              187  \n",
       "unique               1  \n",
       "top          Completed  \n",
       "freq               187  "
      ]
     },
     "execution_count": 79,
     "metadata": {},
     "output_type": "execute_result"
    }
   ],
   "source": [
    "data.describe(include=['O'])"
   ]
  },
  {
   "cell_type": "code",
   "execution_count": 80,
   "metadata": {},
   "outputs": [
    {
     "data": {
      "text/html": [
       "<div>\n",
       "<style scoped>\n",
       "    .dataframe tbody tr th:only-of-type {\n",
       "        vertical-align: middle;\n",
       "    }\n",
       "\n",
       "    .dataframe tbody tr th {\n",
       "        vertical-align: top;\n",
       "    }\n",
       "\n",
       "    .dataframe thead th {\n",
       "        text-align: right;\n",
       "    }\n",
       "</style>\n",
       "<table border=\"1\" class=\"dataframe\">\n",
       "  <thead>\n",
       "    <tr style=\"text-align: right;\">\n",
       "      <th></th>\n",
       "      <th>Order #</th>\n",
       "      <th>Sub total</th>\n",
       "      <th>Delivery charge</th>\n",
       "      <th>Vat</th>\n",
       "      <th>Total</th>\n",
       "      <th>Wallet</th>\n",
       "      <th>Cash Collection</th>\n",
       "      <th>Delivery_time</th>\n",
       "    </tr>\n",
       "  </thead>\n",
       "  <tbody>\n",
       "    <tr>\n",
       "      <th>count</th>\n",
       "      <td>1.870000e+02</td>\n",
       "      <td>187.000000</td>\n",
       "      <td>187.000000</td>\n",
       "      <td>187.0</td>\n",
       "      <td>187.000000</td>\n",
       "      <td>187.000000</td>\n",
       "      <td>187.000000</td>\n",
       "      <td>187</td>\n",
       "    </tr>\n",
       "    <tr>\n",
       "      <th>mean</th>\n",
       "      <td>9.918209e+09</td>\n",
       "      <td>91.106203</td>\n",
       "      <td>8.743316</td>\n",
       "      <td>0.0</td>\n",
       "      <td>99.849519</td>\n",
       "      <td>0.240642</td>\n",
       "      <td>95.129465</td>\n",
       "      <td>0 days 00:47:18.288770</td>\n",
       "    </tr>\n",
       "    <tr>\n",
       "      <th>std</th>\n",
       "      <td>6.055641e+08</td>\n",
       "      <td>63.799747</td>\n",
       "      <td>6.611199</td>\n",
       "      <td>0.0</td>\n",
       "      <td>65.431271</td>\n",
       "      <td>3.290726</td>\n",
       "      <td>61.593421</td>\n",
       "      <td>0 days 01:07:22.574137</td>\n",
       "    </tr>\n",
       "    <tr>\n",
       "      <th>min</th>\n",
       "      <td>8.532000e+09</td>\n",
       "      <td>1.500000</td>\n",
       "      <td>0.000000</td>\n",
       "      <td>0.0</td>\n",
       "      <td>1.500000</td>\n",
       "      <td>0.000000</td>\n",
       "      <td>0.000000</td>\n",
       "      <td>0 days 00:02:00</td>\n",
       "    </tr>\n",
       "    <tr>\n",
       "      <th>25%</th>\n",
       "      <td>9.920000e+09</td>\n",
       "      <td>50.000000</td>\n",
       "      <td>0.000000</td>\n",
       "      <td>0.0</td>\n",
       "      <td>61.000000</td>\n",
       "      <td>0.000000</td>\n",
       "      <td>54.900000</td>\n",
       "      <td>0 days 00:30:00</td>\n",
       "    </tr>\n",
       "    <tr>\n",
       "      <th>50%</th>\n",
       "      <td>9.920000e+09</td>\n",
       "      <td>75.000000</td>\n",
       "      <td>15.000000</td>\n",
       "      <td>0.0</td>\n",
       "      <td>90.000000</td>\n",
       "      <td>0.000000</td>\n",
       "      <td>81.000000</td>\n",
       "      <td>0 days 00:40:00</td>\n",
       "    </tr>\n",
       "    <tr>\n",
       "      <th>75%</th>\n",
       "      <td>9.920000e+09</td>\n",
       "      <td>110.000000</td>\n",
       "      <td>15.000000</td>\n",
       "      <td>0.0</td>\n",
       "      <td>120.000000</td>\n",
       "      <td>0.000000</td>\n",
       "      <td>115.000000</td>\n",
       "      <td>0 days 00:52:30</td>\n",
       "    </tr>\n",
       "    <tr>\n",
       "      <th>max</th>\n",
       "      <td>1.249700e+10</td>\n",
       "      <td>525.000000</td>\n",
       "      <td>15.000000</td>\n",
       "      <td>0.0</td>\n",
       "      <td>540.000000</td>\n",
       "      <td>45.000000</td>\n",
       "      <td>486.000000</td>\n",
       "      <td>0 days 15:08:00</td>\n",
       "    </tr>\n",
       "  </tbody>\n",
       "</table>\n",
       "</div>"
      ],
      "text/plain": [
       "            Order #   Sub total  Delivery charge    Vat       Total  \\\n",
       "count  1.870000e+02  187.000000       187.000000  187.0  187.000000   \n",
       "mean   9.918209e+09   91.106203         8.743316    0.0   99.849519   \n",
       "std    6.055641e+08   63.799747         6.611199    0.0   65.431271   \n",
       "min    8.532000e+09    1.500000         0.000000    0.0    1.500000   \n",
       "25%    9.920000e+09   50.000000         0.000000    0.0   61.000000   \n",
       "50%    9.920000e+09   75.000000        15.000000    0.0   90.000000   \n",
       "75%    9.920000e+09  110.000000        15.000000    0.0  120.000000   \n",
       "max    1.249700e+10  525.000000        15.000000    0.0  540.000000   \n",
       "\n",
       "           Wallet  Cash Collection           Delivery_time  \n",
       "count  187.000000       187.000000                     187  \n",
       "mean     0.240642        95.129465  0 days 00:47:18.288770  \n",
       "std      3.290726        61.593421  0 days 01:07:22.574137  \n",
       "min      0.000000         0.000000         0 days 00:02:00  \n",
       "25%      0.000000        54.900000         0 days 00:30:00  \n",
       "50%      0.000000        81.000000         0 days 00:40:00  \n",
       "75%      0.000000       115.000000         0 days 00:52:30  \n",
       "max     45.000000       486.000000         0 days 15:08:00  "
      ]
     },
     "execution_count": 80,
     "metadata": {},
     "output_type": "execute_result"
    }
   ],
   "source": [
    "data.describe()"
   ]
  },
  {
   "cell_type": "code",
   "execution_count": 81,
   "metadata": {},
   "outputs": [
    {
     "data": {
      "text/plain": [
       "0     01:41:00\n",
       "1     01:02:00\n",
       "2     00:50:00\n",
       "3     00:57:00\n",
       "4     00:37:00\n",
       "5     00:37:00\n",
       "6     01:13:00\n",
       "7     00:50:00\n",
       "8     00:38:00\n",
       "9     00:46:00\n",
       "10    00:47:00\n",
       "11    00:50:00\n",
       "12    00:56:00\n",
       "13    00:34:00\n",
       "14    00:25:00\n",
       "15    00:21:00\n",
       "16    00:48:00\n",
       "17    01:11:00\n",
       "18    00:37:00\n",
       "19    00:42:00\n",
       "20    00:19:00\n",
       "21    00:24:00\n",
       "22    00:54:00\n",
       "23    00:34:00\n",
       "24    00:46:00\n",
       "25    00:43:00\n",
       "26    00:37:00\n",
       "27    01:39:00\n",
       "28    01:31:00\n",
       "29    01:08:00\n",
       "        ...   \n",
       "157   00:37:00\n",
       "158   00:43:00\n",
       "159   00:52:00\n",
       "160   01:10:00\n",
       "161   00:50:00\n",
       "162   01:35:00\n",
       "163   00:43:00\n",
       "164   00:13:00\n",
       "165   00:18:00\n",
       "166   00:39:00\n",
       "167   00:37:00\n",
       "168   00:40:00\n",
       "169   00:50:00\n",
       "170   00:41:00\n",
       "171   00:03:00\n",
       "172   00:28:00\n",
       "173   00:11:00\n",
       "174   02:22:00\n",
       "175   01:05:00\n",
       "176   00:55:00\n",
       "177   01:06:00\n",
       "178   00:44:00\n",
       "179   00:59:00\n",
       "180   00:07:00\n",
       "181   00:07:00\n",
       "182   01:15:00\n",
       "183   00:46:00\n",
       "184   00:53:00\n",
       "185   01:43:00\n",
       "186   01:11:00\n",
       "Name: Delivery_time, Length: 187, dtype: timedelta64[ns]"
      ]
     },
     "execution_count": 81,
     "metadata": {},
     "output_type": "execute_result"
    }
   ],
   "source": [
    "data['Delivery_time']\n"
   ]
  },
  {
   "cell_type": "code",
   "execution_count": 82,
   "metadata": {},
   "outputs": [],
   "source": [
    "data[\"Delivery_time\"]=data[\"Delivery_time\"].astype('timedelta64[m]')"
   ]
  },
  {
   "cell_type": "code",
   "execution_count": 110,
   "metadata": {},
   "outputs": [
    {
     "name": "stdout",
     "output_type": "stream",
     "text": [
      "<class 'pandas.core.frame.DataFrame'>\n",
      "RangeIndex: 187 entries, 0 to 186\n",
      "Data columns (total 23 columns):\n",
      "Order #                 187 non-null int64\n",
      "Created On              187 non-null datetime64[ns]\n",
      "Merchant                187 non-null object\n",
      "Payment                 187 non-null object\n",
      "Sub total               187 non-null float64\n",
      "Delivery charge         187 non-null int64\n",
      "Vat                     187 non-null int64\n",
      "Total                   187 non-null float64\n",
      "Discount                187 non-null object\n",
      "Wallet                  187 non-null int64\n",
      "Cash Collection         187 non-null float64\n",
      "Driver Name             187 non-null object\n",
      "Order date              187 non-null datetime64[ns]\n",
      "Scheduled for           187 non-null datetime64[ns]\n",
      "Dispatched_pickup       187 non-null datetime64[ns]\n",
      "Completed_pickup        187 non-null datetime64[ns]\n",
      "Assigned On_pickup      187 non-null datetime64[ns]\n",
      "Status_pickup           187 non-null object\n",
      "Dispatched_delivery     187 non-null datetime64[ns]\n",
      "Completed_delivery      187 non-null datetime64[ns]\n",
      "Assigned On_delivery    187 non-null datetime64[ns]\n",
      "Status_delivery         187 non-null object\n",
      "Delivery_time           187 non-null float64\n",
      "dtypes: datetime64[ns](9), float64(4), int64(4), object(6)\n",
      "memory usage: 33.7+ KB\n"
     ]
    }
   ],
   "source": [
    "data.info()"
   ]
  },
  {
   "cell_type": "markdown",
   "metadata": {},
   "source": [
    "# 8. Save your modifications in a new file (Orders_and_deliveries_cleaned.xslx)"
   ]
  },
  {
   "cell_type": "code",
   "execution_count": 84,
   "metadata": {},
   "outputs": [],
   "source": [
    "export_excel = data.to_excel (r'C:\\Users\\shrougalbahoth\\Desktop\\Orders_and_deliveries_cleaned.xlsx', index = None, header=True)\n"
   ]
  },
  {
   "cell_type": "markdown",
   "metadata": {},
   "source": [
    "# Perform some simple analytics using graphical and non-graphical methods to:\n"
   ]
  },
  {
   "cell_type": "code",
   "execution_count": 85,
   "metadata": {},
   "outputs": [
    {
     "data": {
      "text/plain": [
       "Index(['Order #', 'Created On', 'Merchant', 'Payment', 'Sub total',\n",
       "       'Delivery charge', 'Vat', 'Total', 'Discount', 'Wallet',\n",
       "       'Cash Collection', 'Driver Name', 'Order date', 'Scheduled for',\n",
       "       'Dispatched_pickup', 'Completed_pickup', 'Assigned On_pickup',\n",
       "       'Status_pickup', 'Dispatched_delivery', 'Completed_delivery',\n",
       "       'Assigned On_delivery', 'Status_delivery', 'Delivery_time'],\n",
       "      dtype='object')"
      ]
     },
     "execution_count": 85,
     "metadata": {},
     "output_type": "execute_result"
    }
   ],
   "source": [
    "data.columns"
   ]
  },
  {
   "cell_type": "code",
   "execution_count": 86,
   "metadata": {},
   "outputs": [
    {
     "data": {
      "text/plain": [
       "<matplotlib.axes._subplots.AxesSubplot at 0x1793c43bba8>"
      ]
     },
     "execution_count": 86,
     "metadata": {},
     "output_type": "execute_result"
    },
    {
     "data": {
      "image/png": "[encoded data removed]",
      "text/plain": [
       "<Figure size 720x360 with 2 Axes>"
      ]
     },
     "metadata": {
      "needs_background": "light"
     },
     "output_type": "display_data"
    }
   ],
   "source": [
    "plt.figure(figsize=(10,5))\n",
    "sns.heatmap(data.corr(), annot=True)"
   ]
  },
  {
   "cell_type": "markdown",
   "metadata": {},
   "source": [
    "# a.Compute and compare the revenue of each merchant."
   ]
  },
  {
   "cell_type": "code",
   "execution_count": 1,
   "metadata": {},
   "outputs": [
    {
     "ename": "NameError",
     "evalue": "name 'data' is not defined",
     "output_type": "error",
     "traceback": [
      "\u001b[1;31m---------------------------------------------------------------------------\u001b[0m",
      "\u001b[1;31mNameError\u001b[0m                                 Traceback (most recent call last)",
      "\u001b[1;32m<ipython-input-1-2ffa24563fc0>\u001b[0m in \u001b[0;36m<module>\u001b[1;34m\u001b[0m\n\u001b[1;32m----> 1\u001b[1;33m \u001b[0mdata\u001b[0m\u001b[1;33m.\u001b[0m\u001b[0mgroupby\u001b[0m\u001b[1;33m(\u001b[0m\u001b[1;33m[\u001b[0m\u001b[1;34m'Merchant'\u001b[0m\u001b[1;33m]\u001b[0m\u001b[1;33m)\u001b[0m\u001b[1;33m[\u001b[0m\u001b[1;34m'Total'\u001b[0m\u001b[1;33m]\u001b[0m\u001b[1;33m.\u001b[0m\u001b[0msum\u001b[0m\u001b[1;33m(\u001b[0m\u001b[1;33m)\u001b[0m\u001b[1;33m.\u001b[0m\u001b[0msort_values\u001b[0m\u001b[1;33m(\u001b[0m\u001b[0mascending\u001b[0m\u001b[1;33m=\u001b[0m\u001b[1;32mFalse\u001b[0m\u001b[1;33m)\u001b[0m\u001b[1;33m\u001b[0m\u001b[1;33m\u001b[0m\u001b[0m\n\u001b[0m",
      "\u001b[1;31mNameError\u001b[0m: name 'data' is not defined"
     ]
    }
   ],
   "source": [
    "data.groupby(['Merchant'])['Total'].sum().sort_values(ascending=False)"
   ]
  },
  {
   "cell_type": "code",
   "execution_count": 88,
   "metadata": {},
   "outputs": [
    {
     "data": {
      "text/plain": [
       "Merchant\n",
       "Merchant4    6652.00\n",
       "Merchant6    3865.50\n",
       "Merchant2    2228.75\n",
       "Merchant3    2187.25\n",
       "Merchant5    1058.15\n",
       "Merchant1     645.21\n",
       "Merchant8     178.00\n",
       "Merchant9     152.00\n",
       "Merchant7      70.00\n",
       "Name: Sub total, dtype: float64"
      ]
     },
     "execution_count": 88,
     "metadata": {},
     "output_type": "execute_result"
    }
   ],
   "source": [
    "#a. Compute and compare the revenue of each merchant.\n",
    "data.groupby(['Merchant'])['Sub total'].sum().sort_values(ascending=False)"
   ]
  },
  {
   "cell_type": "code",
   "execution_count": 89,
   "metadata": {},
   "outputs": [
    {
     "data": {
      "image/png": "[encoded data removed]",
      "text/plain": [
       "<Figure size 1440x864 with 1 Axes>"
      ]
     },
     "metadata": {
      "needs_background": "light"
     },
     "output_type": "display_data"
    }
   ],
   "source": [
    "\n",
    "\n",
    "\n",
    "data.groupby(['Merchant'])['Sub total'].sum()\\\n",
    ".sort_values(ascending=False).head().plot(fontsize = 20, figsize=(20,12), kind='bar',color=\"coral\")\n",
    "\n",
    "plt.xlabel('merchant',fontsize=40)\n",
    "plt.ylabel('Revenue',fontsize=40)\n",
    "plt.title('Merchants who get higher revenue ', fontsize=50, y=1.01)\n",
    "plt.xticks(rotation=0);"
   ]
  },
  {
   "cell_type": "code",
   "execution_count": 90,
   "metadata": {
    "scrolled": true
   },
   "outputs": [
    {
     "data": {
      "text/plain": [
       "Merchant   Discount       \n",
       "Merchant1  No discount         9\n",
       "Merchant2  10.0% OFF TOTAL    13\n",
       "           No discount        11\n",
       "Merchant3  No discount        28\n",
       "           10.0% OFF TOTAL     3\n",
       "Merchant4  10.0% OFF TOTAL    32\n",
       "           No discount        26\n",
       "Merchant5  No discount        10\n",
       "           10.0% OFF TOTAL     1\n",
       "Merchant6  No discount        32\n",
       "           10.0% OFF TOTAL    18\n",
       "Merchant7  No discount         1\n",
       "Merchant8  No discount         1\n",
       "Merchant9  No discount         2\n",
       "Name: Discount, dtype: int64"
      ]
     },
     "execution_count": 90,
     "metadata": {},
     "output_type": "execute_result"
    }
   ],
   "source": [
    "#why they get higher revenue?\n",
    "\n",
    "\n",
    "data.groupby(['Merchant'])['Discount'].value_counts()\n",
    "#Merchants who get higher revenue provide more discounts for customers than others\n"
   ]
  },
  {
   "cell_type": "markdown",
   "metadata": {},
   "source": [
    "# b. Analyze the effects of discounts \n"
   ]
  },
  {
   "cell_type": "code",
   "execution_count": 91,
   "metadata": {},
   "outputs": [
    {
     "data": {
      "text/html": [
       "<div>\n",
       "<style scoped>\n",
       "    .dataframe tbody tr th:only-of-type {\n",
       "        vertical-align: middle;\n",
       "    }\n",
       "\n",
       "    .dataframe tbody tr th {\n",
       "        vertical-align: top;\n",
       "    }\n",
       "\n",
       "    .dataframe thead th {\n",
       "        text-align: right;\n",
       "    }\n",
       "</style>\n",
       "<table border=\"1\" class=\"dataframe\">\n",
       "  <thead>\n",
       "    <tr style=\"text-align: right;\">\n",
       "      <th></th>\n",
       "      <th>count</th>\n",
       "      <th>min</th>\n",
       "      <th>max</th>\n",
       "      <th>mean</th>\n",
       "    </tr>\n",
       "    <tr>\n",
       "      <th>Discount</th>\n",
       "      <th></th>\n",
       "      <th></th>\n",
       "      <th></th>\n",
       "      <th></th>\n",
       "    </tr>\n",
       "  </thead>\n",
       "  <tbody>\n",
       "    <tr>\n",
       "      <th>10.0% OFF TOTAL</th>\n",
       "      <td>67</td>\n",
       "      <td>38.0</td>\n",
       "      <td>540.0</td>\n",
       "      <td>122.857463</td>\n",
       "    </tr>\n",
       "    <tr>\n",
       "      <th>No discount</th>\n",
       "      <td>120</td>\n",
       "      <td>1.5</td>\n",
       "      <td>345.0</td>\n",
       "      <td>87.003417</td>\n",
       "    </tr>\n",
       "  </tbody>\n",
       "</table>\n",
       "</div>"
      ],
      "text/plain": [
       "                 count   min    max        mean\n",
       "Discount                                       \n",
       "10.0% OFF TOTAL     67  38.0  540.0  122.857463\n",
       "No discount        120   1.5  345.0   87.003417"
      ]
     },
     "execution_count": 91,
     "metadata": {},
     "output_type": "execute_result"
    }
   ],
   "source": [
    "data.groupby('Discount').Total.agg(['count', 'min' , 'max' , 'mean'])\n",
    "#The highest bill had a discount"
   ]
  },
  {
   "cell_type": "code",
   "execution_count": 92,
   "metadata": {},
   "outputs": [
    {
     "data": {
      "text/plain": [
       "No discount        120\n",
       "10.0% OFF TOTAL     67\n",
       "Name: Discount, dtype: int64"
      ]
     },
     "execution_count": 92,
     "metadata": {},
     "output_type": "execute_result"
    }
   ],
   "source": [
    "#would providing a discount encourage customers to order more?\n",
    "#not really\n",
    "data.Discount.value_counts()"
   ]
  },
  {
   "cell_type": "code",
   "execution_count": 93,
   "metadata": {},
   "outputs": [
    {
     "data": {
      "text/plain": [
       "Discount\n",
       "10.0% OFF TOTAL    122.857463\n",
       "No discount         87.003417\n",
       "Name: Total, dtype: float64"
      ]
     },
     "execution_count": 93,
     "metadata": {},
     "output_type": "execute_result"
    }
   ],
   "source": [
    "#providing a discount encourage customers to have higher bills \n",
    "#so the average total revenue for discounted orders are higher than those without discount\n",
    "data.groupby('Discount')['Total'].mean()"
   ]
  },
  {
   "cell_type": "code",
   "execution_count": 94,
   "metadata": {},
   "outputs": [
    {
     "data": {
      "image/png": "[encoded data removed]",
      "text/plain": [
       "<Figure size 1440x864 with 1 Axes>"
      ]
     },
     "metadata": {
      "needs_background": "light"
     },
     "output_type": "display_data"
    }
   ],
   "source": [
    "data.groupby('Discount')['Total'].mean()\\\n",
    ".sort_values(ascending=False).plot(fontsize =35, figsize=(20,12),kind='barh')\n",
    "\n",
    "plt.xlabel('Total',fontsize=40)\n",
    "plt.ylabel('',fontsize=40)\n",
    "plt.title('Discount effect', fontsize=50);\n",
    "\n",
    "#so discount encourage customers to have higher bills"
   ]
  },
  {
   "cell_type": "markdown",
   "metadata": {},
   "source": [
    "# c. Who is the driver that deliver the most?"
   ]
  },
  {
   "cell_type": "code",
   "execution_count": 95,
   "metadata": {},
   "outputs": [
    {
     "data": {
      "text/plain": [
       "Driver3     29\n",
       "Driver1     20\n",
       "Driver8     20\n",
       "Driver4     16\n",
       "Driver6     12\n",
       "Driver10    10\n",
       "Driver12    10\n",
       "Driver5      8\n",
       "Driver9      7\n",
       "Driver2      7\n",
       "Driver17     7\n",
       "Driver7      6\n",
       "Driver14     6\n",
       "Driver16     6\n",
       "Driver18     4\n",
       "Driver20     3\n",
       "Driver19     3\n",
       "Driver11     3\n",
       "Driver15     3\n",
       "Driver0      2\n",
       "Driver13     2\n",
       "Driver22     1\n",
       "Driver21     1\n",
       "Driver23     1\n",
       "Name: Driver Name, dtype: int64"
      ]
     },
     "execution_count": 95,
     "metadata": {},
     "output_type": "execute_result"
    }
   ],
   "source": [
    "data['Driver Name'].value_counts()"
   ]
  },
  {
   "cell_type": "code",
   "execution_count": 96,
   "metadata": {},
   "outputs": [
    {
     "data": {
      "image/png": "[encoded data removed]",
      "text/plain": [
       "<Figure size 1440x864 with 1 Axes>"
      ]
     },
     "metadata": {
      "needs_background": "light"
     },
     "output_type": "display_data"
    }
   ],
   "source": [
    "\n",
    "data['Driver Name'].value_counts()\\\n",
    ".sort_values(ascending=False).head().plot(fontsize = 20, figsize=(20,12), kind='bar',color=\"coral\")\n",
    "plt.xlabel('Driver Name',fontsize=40)\n",
    "plt.ylabel('',fontsize=40)\n",
    "plt.title('Who is the driver that deliver the most?', fontsize=50, y=1.01)\n",
    "plt.xticks(rotation=0);"
   ]
  },
  {
   "cell_type": "code",
   "execution_count": 97,
   "metadata": {},
   "outputs": [
    {
     "data": {
      "text/plain": [
       "Driver Name\n",
       "Driver23      7.000000\n",
       "Driver22      7.000000\n",
       "Driver11     10.333333\n",
       "Driver15     26.333333\n",
       "Driver16     28.166667\n",
       "Driver19     30.666667\n",
       "Driver0      35.000000\n",
       "Driver7      36.666667\n",
       "Driver9      36.857143\n",
       "Driver17     37.571429\n",
       "Driver6      37.833333\n",
       "Driver8      39.200000\n",
       "Driver4      39.687500\n",
       "Driver12     40.300000\n",
       "Driver13     41.000000\n",
       "Driver20     41.333333\n",
       "Driver3      41.827586\n",
       "Driver14     49.166667\n",
       "Driver5      53.000000\n",
       "Driver2      57.285714\n",
       "Driver1      58.500000\n",
       "Driver18     73.000000\n",
       "Driver10    123.100000\n",
       "Driver21    142.000000\n",
       "Name: Delivery_time, dtype: float64"
      ]
     },
     "execution_count": 97,
     "metadata": {},
     "output_type": "execute_result"
    }
   ],
   "source": [
    "data.groupby('Driver Name')['Delivery_time'].mean().sort_values(ascending=True)\n",
    "#There is no relationship between faster delivery and the driver that deliver the most\n",
    "#so faster delivery is not helping in the assigning a driver to delivery (process)"
   ]
  },
  {
   "cell_type": "code",
   "execution_count": 109,
   "metadata": {},
   "outputs": [
    {
     "data": {
      "text/plain": [
       "32"
      ]
     },
     "execution_count": 109,
     "metadata": {},
     "output_type": "execute_result"
    }
   ],
   "source": [
    "#did the delivery time meet the promised 60 minutes delivery time?\n",
    "data.Completed_delivery[data['Delivery_time']>60].count()"
   ]
  },
  {
   "cell_type": "code",
   "execution_count": null,
   "metadata": {},
   "outputs": [],
   "source": []
  }
 ],
 "metadata": {
  "kernelspec": {
   "display_name": "Python 3",
   "language": "python",
   "name": "python3"
  },
  "language_info": {
   "codemirror_mode": {
    "name": "ipython",
    "version": 3
   },
   "file_extension": ".py",
   "mimetype": "text/x-python",
   "name": "python",
   "nbconvert_exporter": "python",
   "pygments_lexer": "ipython3",
   "version": "3.7.3"
  }
 },
 "nbformat": 4,
 "nbformat_minor": 2
}
